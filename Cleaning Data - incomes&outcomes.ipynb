{
 "cells": [
  {
   "cell_type": "code",
   "execution_count": 1,
   "metadata": {},
   "outputs": [],
   "source": [
    "import pandas as pd\n",
    "import numpy as np\n",
    "import matplotlib as mpl\n",
    "from matplotlib import pyplot as plt\n",
    "import re"
   ]
  },
  {
   "cell_type": "code",
   "execution_count": 2,
   "metadata": {},
   "outputs": [
    {
     "data": {
      "text/html": [
       "<div>\n",
       "<style scoped>\n",
       "    .dataframe tbody tr th:only-of-type {\n",
       "        vertical-align: middle;\n",
       "    }\n",
       "\n",
       "    .dataframe tbody tr th {\n",
       "        vertical-align: top;\n",
       "    }\n",
       "\n",
       "    .dataframe thead th {\n",
       "        text-align: right;\n",
       "    }\n",
       "</style>\n",
       "<table border=\"1\" class=\"dataframe\">\n",
       "  <thead>\n",
       "    <tr style=\"text-align: right;\">\n",
       "      <th></th>\n",
       "      <th>age_upon_outcome</th>\n",
       "      <th>animal_id_outcome</th>\n",
       "      <th>date_of_birth</th>\n",
       "      <th>outcome_subtype</th>\n",
       "      <th>outcome_type</th>\n",
       "      <th>sex_upon_outcome</th>\n",
       "      <th>age_upon_outcome_(days)</th>\n",
       "      <th>age_upon_outcome_(years)</th>\n",
       "      <th>age_upon_outcome_age_group</th>\n",
       "      <th>outcome_datetime</th>\n",
       "      <th>...</th>\n",
       "      <th>age_upon_intake_age_group</th>\n",
       "      <th>intake_datetime</th>\n",
       "      <th>intake_month</th>\n",
       "      <th>intake_year</th>\n",
       "      <th>intake_monthyear</th>\n",
       "      <th>intake_weekday</th>\n",
       "      <th>intake_hour</th>\n",
       "      <th>intake_number</th>\n",
       "      <th>time_in_shelter</th>\n",
       "      <th>time_in_shelter_days</th>\n",
       "    </tr>\n",
       "  </thead>\n",
       "  <tbody>\n",
       "    <tr>\n",
       "      <td>0</td>\n",
       "      <td>10 years</td>\n",
       "      <td>A006100</td>\n",
       "      <td>09/07/2007 0:00</td>\n",
       "      <td>NaN</td>\n",
       "      <td>Return to Owner</td>\n",
       "      <td>Neutered Male</td>\n",
       "      <td>3650</td>\n",
       "      <td>10.0</td>\n",
       "      <td>(7.5, 10.0]</td>\n",
       "      <td>07/12/2017 14:07</td>\n",
       "      <td>...</td>\n",
       "      <td>(7.5, 10.0]</td>\n",
       "      <td>07/12/2017 0:00</td>\n",
       "      <td>12</td>\n",
       "      <td>2017</td>\n",
       "      <td>2017-12</td>\n",
       "      <td>Thursday</td>\n",
       "      <td>14</td>\n",
       "      <td>1</td>\n",
       "      <td>0 days 14:07:00.000000000</td>\n",
       "      <td>0.588194</td>\n",
       "    </tr>\n",
       "    <tr>\n",
       "      <td>1</td>\n",
       "      <td>7 years</td>\n",
       "      <td>A006100</td>\n",
       "      <td>09/07/2007 0:00</td>\n",
       "      <td>NaN</td>\n",
       "      <td>Return to Owner</td>\n",
       "      <td>Neutered Male</td>\n",
       "      <td>2555</td>\n",
       "      <td>7.0</td>\n",
       "      <td>(5.0, 7.5]</td>\n",
       "      <td>20/12/2014 16:35</td>\n",
       "      <td>...</td>\n",
       "      <td>(5.0, 7.5]</td>\n",
       "      <td>19/12/2014 10:21</td>\n",
       "      <td>12</td>\n",
       "      <td>2014</td>\n",
       "      <td>2014-12</td>\n",
       "      <td>Friday</td>\n",
       "      <td>10</td>\n",
       "      <td>2</td>\n",
       "      <td>1 days 06:14:00.000000000</td>\n",
       "      <td>1.259722</td>\n",
       "    </tr>\n",
       "    <tr>\n",
       "      <td>2</td>\n",
       "      <td>6 years</td>\n",
       "      <td>A006100</td>\n",
       "      <td>09/07/2007 0:00</td>\n",
       "      <td>NaN</td>\n",
       "      <td>Return to Owner</td>\n",
       "      <td>Neutered Male</td>\n",
       "      <td>2190</td>\n",
       "      <td>6.0</td>\n",
       "      <td>(5.0, 7.5]</td>\n",
       "      <td>08/03/2014 17:10</td>\n",
       "      <td>...</td>\n",
       "      <td>(5.0, 7.5]</td>\n",
       "      <td>07/03/2014 14:26</td>\n",
       "      <td>3</td>\n",
       "      <td>2014</td>\n",
       "      <td>2014-03</td>\n",
       "      <td>Friday</td>\n",
       "      <td>14</td>\n",
       "      <td>3</td>\n",
       "      <td>1 days 02:44:00.000000000</td>\n",
       "      <td>1.113889</td>\n",
       "    </tr>\n",
       "    <tr>\n",
       "      <td>3</td>\n",
       "      <td>10 years</td>\n",
       "      <td>A047759</td>\n",
       "      <td>02/04/2004 0:00</td>\n",
       "      <td>Partner</td>\n",
       "      <td>Transfer</td>\n",
       "      <td>Neutered Male</td>\n",
       "      <td>3650</td>\n",
       "      <td>10.0</td>\n",
       "      <td>(7.5, 10.0]</td>\n",
       "      <td>07/04/2014 15:12</td>\n",
       "      <td>...</td>\n",
       "      <td>(7.5, 10.0]</td>\n",
       "      <td>02/04/2014 15:55</td>\n",
       "      <td>4</td>\n",
       "      <td>2014</td>\n",
       "      <td>2014-04</td>\n",
       "      <td>Wednesday</td>\n",
       "      <td>15</td>\n",
       "      <td>1</td>\n",
       "      <td>4 days 23:17:00.000000000</td>\n",
       "      <td>4.970139</td>\n",
       "    </tr>\n",
       "    <tr>\n",
       "      <td>4</td>\n",
       "      <td>16 years</td>\n",
       "      <td>A134067</td>\n",
       "      <td>16/10/1997 0:00</td>\n",
       "      <td>NaN</td>\n",
       "      <td>Return to Owner</td>\n",
       "      <td>Neutered Male</td>\n",
       "      <td>5840</td>\n",
       "      <td>16.0</td>\n",
       "      <td>(15.0, 17.5]</td>\n",
       "      <td>16/11/2013 11:54</td>\n",
       "      <td>...</td>\n",
       "      <td>(15.0, 17.5]</td>\n",
       "      <td>16/11/2013 9:02</td>\n",
       "      <td>11</td>\n",
       "      <td>2013</td>\n",
       "      <td>2013-11</td>\n",
       "      <td>Saturday</td>\n",
       "      <td>9</td>\n",
       "      <td>1</td>\n",
       "      <td>0 days 02:52:00.000000000</td>\n",
       "      <td>0.119444</td>\n",
       "    </tr>\n",
       "  </tbody>\n",
       "</table>\n",
       "<p>5 rows × 41 columns</p>\n",
       "</div>"
      ],
      "text/plain": [
       "  age_upon_outcome animal_id_outcome    date_of_birth outcome_subtype  \\\n",
       "0         10 years           A006100  09/07/2007 0:00             NaN   \n",
       "1          7 years           A006100  09/07/2007 0:00             NaN   \n",
       "2          6 years           A006100  09/07/2007 0:00             NaN   \n",
       "3         10 years           A047759  02/04/2004 0:00         Partner   \n",
       "4         16 years           A134067  16/10/1997 0:00             NaN   \n",
       "\n",
       "      outcome_type sex_upon_outcome  age_upon_outcome_(days)  \\\n",
       "0  Return to Owner    Neutered Male                     3650   \n",
       "1  Return to Owner    Neutered Male                     2555   \n",
       "2  Return to Owner    Neutered Male                     2190   \n",
       "3         Transfer    Neutered Male                     3650   \n",
       "4  Return to Owner    Neutered Male                     5840   \n",
       "\n",
       "   age_upon_outcome_(years) age_upon_outcome_age_group  outcome_datetime  ...  \\\n",
       "0                      10.0                (7.5, 10.0]  07/12/2017 14:07  ...   \n",
       "1                       7.0                 (5.0, 7.5]  20/12/2014 16:35  ...   \n",
       "2                       6.0                 (5.0, 7.5]  08/03/2014 17:10  ...   \n",
       "3                      10.0                (7.5, 10.0]  07/04/2014 15:12  ...   \n",
       "4                      16.0               (15.0, 17.5]  16/11/2013 11:54  ...   \n",
       "\n",
       "   age_upon_intake_age_group   intake_datetime intake_month intake_year  \\\n",
       "0                (7.5, 10.0]   07/12/2017 0:00           12        2017   \n",
       "1                 (5.0, 7.5]  19/12/2014 10:21           12        2014   \n",
       "2                 (5.0, 7.5]  07/03/2014 14:26            3        2014   \n",
       "3                (7.5, 10.0]  02/04/2014 15:55            4        2014   \n",
       "4               (15.0, 17.5]   16/11/2013 9:02           11        2013   \n",
       "\n",
       "   intake_monthyear  intake_weekday  intake_hour  intake_number  \\\n",
       "0           2017-12        Thursday           14              1   \n",
       "1           2014-12          Friday           10              2   \n",
       "2           2014-03          Friday           14              3   \n",
       "3           2014-04       Wednesday           15              1   \n",
       "4           2013-11        Saturday            9              1   \n",
       "\n",
       "             time_in_shelter time_in_shelter_days  \n",
       "0  0 days 14:07:00.000000000             0.588194  \n",
       "1  1 days 06:14:00.000000000             1.259722  \n",
       "2  1 days 02:44:00.000000000             1.113889  \n",
       "3  4 days 23:17:00.000000000             4.970139  \n",
       "4  0 days 02:52:00.000000000             0.119444  \n",
       "\n",
       "[5 rows x 41 columns]"
      ]
     },
     "execution_count": 2,
     "metadata": {},
     "output_type": "execute_result"
    }
   ],
   "source": [
    "path = '/Users/desislavamarvakov/Study/HIT/שנה ב׳/סמסטר ב׳/Data Science/Final Project/pets data/austin/aac_intakes_outcomes.csv'\n",
    "raw_df = pd.read_csv(path)\n",
    "raw_df.head()"
   ]
  },
  {
   "cell_type": "code",
   "execution_count": 3,
   "metadata": {},
   "outputs": [
    {
     "name": "stdout",
     "output_type": "stream",
     "text": [
      "<class 'pandas.core.frame.DataFrame'>\n",
      "RangeIndex: 79671 entries, 0 to 79670\n",
      "Data columns (total 41 columns):\n",
      "age_upon_outcome              79671 non-null object\n",
      "animal_id_outcome             79671 non-null object\n",
      "date_of_birth                 79671 non-null object\n",
      "outcome_subtype               36348 non-null object\n",
      "outcome_type                  79661 non-null object\n",
      "sex_upon_outcome              79671 non-null object\n",
      "age_upon_outcome_(days)       79671 non-null int64\n",
      "age_upon_outcome_(years)      79671 non-null float64\n",
      "age_upon_outcome_age_group    79671 non-null object\n",
      "outcome_datetime              79671 non-null object\n",
      "outcome_month                 79671 non-null int64\n",
      "outcome_year                  79671 non-null int64\n",
      "outcome_monthyear             79671 non-null object\n",
      "outcome_weekday               79671 non-null object\n",
      "outcome_hour                  79671 non-null int64\n",
      "outcome_number                79671 non-null int64\n",
      "dob_year                      79671 non-null int64\n",
      "dob_month                     79671 non-null int64\n",
      "dob_monthyear                 79671 non-null object\n",
      "age_upon_intake               79671 non-null object\n",
      "animal_id_intake              79671 non-null object\n",
      "animal_type                   79671 non-null object\n",
      "breed                         79671 non-null object\n",
      "color                         79671 non-null object\n",
      "found_location                79671 non-null object\n",
      "intake_condition              79671 non-null object\n",
      "intake_type                   79671 non-null object\n",
      "sex_upon_intake               79671 non-null object\n",
      "count                         79671 non-null int64\n",
      "age_upon_intake_(days)        79671 non-null int64\n",
      "age_upon_intake_(years)       79671 non-null float64\n",
      "age_upon_intake_age_group     79671 non-null object\n",
      "intake_datetime               79671 non-null object\n",
      "intake_month                  79671 non-null int64\n",
      "intake_year                   79671 non-null int64\n",
      "intake_monthyear              79671 non-null object\n",
      "intake_weekday                79671 non-null object\n",
      "intake_hour                   79671 non-null int64\n",
      "intake_number                 79671 non-null int64\n",
      "time_in_shelter               79671 non-null object\n",
      "time_in_shelter_days          79671 non-null float64\n",
      "dtypes: float64(3), int64(13), object(25)\n",
      "memory usage: 24.9+ MB\n"
     ]
    }
   ],
   "source": [
    "raw_df.info()"
   ]
  },
  {
   "cell_type": "code",
   "execution_count": 4,
   "metadata": {},
   "outputs": [],
   "source": [
    "raw_df = raw_df[raw_df['animal_type'] != 'Livestock']\n",
    "raw_df = raw_df[raw_df['animal_type'] != 'Bird']\n",
    "raw_df = raw_df[raw_df['animal_type'] != 'Other']"
   ]
  },
  {
   "cell_type": "code",
   "execution_count": 5,
   "metadata": {},
   "outputs": [
    {
     "name": "stdout",
     "output_type": "stream",
     "text": [
      "There are 29 duplicated rows\n"
     ]
    },
    {
     "data": {
      "text/html": [
       "<div>\n",
       "<style scoped>\n",
       "    .dataframe tbody tr th:only-of-type {\n",
       "        vertical-align: middle;\n",
       "    }\n",
       "\n",
       "    .dataframe tbody tr th {\n",
       "        vertical-align: top;\n",
       "    }\n",
       "\n",
       "    .dataframe thead th {\n",
       "        text-align: right;\n",
       "    }\n",
       "</style>\n",
       "<table border=\"1\" class=\"dataframe\">\n",
       "  <thead>\n",
       "    <tr style=\"text-align: right;\">\n",
       "      <th></th>\n",
       "      <th>age_upon_outcome</th>\n",
       "      <th>animal_id_outcome</th>\n",
       "      <th>date_of_birth</th>\n",
       "      <th>outcome_subtype</th>\n",
       "      <th>outcome_type</th>\n",
       "      <th>sex_upon_outcome</th>\n",
       "      <th>age_upon_outcome_(days)</th>\n",
       "      <th>age_upon_outcome_(years)</th>\n",
       "      <th>age_upon_outcome_age_group</th>\n",
       "      <th>outcome_datetime</th>\n",
       "      <th>...</th>\n",
       "      <th>age_upon_intake_age_group</th>\n",
       "      <th>intake_datetime</th>\n",
       "      <th>intake_month</th>\n",
       "      <th>intake_year</th>\n",
       "      <th>intake_monthyear</th>\n",
       "      <th>intake_weekday</th>\n",
       "      <th>intake_hour</th>\n",
       "      <th>intake_number</th>\n",
       "      <th>time_in_shelter</th>\n",
       "      <th>time_in_shelter_days</th>\n",
       "    </tr>\n",
       "  </thead>\n",
       "  <tbody>\n",
       "    <tr>\n",
       "      <td>1126</td>\n",
       "      <td>8 years</td>\n",
       "      <td>A561806</td>\n",
       "      <td>30/11/2008 0:00</td>\n",
       "      <td>NaN</td>\n",
       "      <td>Return to Owner</td>\n",
       "      <td>Spayed Female</td>\n",
       "      <td>2920</td>\n",
       "      <td>8.000000</td>\n",
       "      <td>(7.5, 10.0]</td>\n",
       "      <td>05/06/2017 18:09</td>\n",
       "      <td>...</td>\n",
       "      <td>(7.5, 10.0]</td>\n",
       "      <td>05/06/2017 11:36</td>\n",
       "      <td>6</td>\n",
       "      <td>2017</td>\n",
       "      <td>2017-06</td>\n",
       "      <td>Monday</td>\n",
       "      <td>11</td>\n",
       "      <td>1</td>\n",
       "      <td>0 days 06:33:00.000000000</td>\n",
       "      <td>0.272917</td>\n",
       "    </tr>\n",
       "    <tr>\n",
       "      <td>6656</td>\n",
       "      <td>5 years</td>\n",
       "      <td>A667596</td>\n",
       "      <td>20/05/2012 0:00</td>\n",
       "      <td>NaN</td>\n",
       "      <td>Return to Owner</td>\n",
       "      <td>Spayed Female</td>\n",
       "      <td>1825</td>\n",
       "      <td>5.000000</td>\n",
       "      <td>(2.5, 5.0]</td>\n",
       "      <td>27/03/2018 16:08</td>\n",
       "      <td>...</td>\n",
       "      <td>(2.5, 5.0]</td>\n",
       "      <td>27/03/2018 12:23</td>\n",
       "      <td>3</td>\n",
       "      <td>2018</td>\n",
       "      <td>2018-03</td>\n",
       "      <td>Tuesday</td>\n",
       "      <td>12</td>\n",
       "      <td>1</td>\n",
       "      <td>0 days 03:45:00.000000000</td>\n",
       "      <td>0.156250</td>\n",
       "    </tr>\n",
       "    <tr>\n",
       "      <td>6996</td>\n",
       "      <td>11 months</td>\n",
       "      <td>A668183</td>\n",
       "      <td>29/07/2013 0:00</td>\n",
       "      <td>NaN</td>\n",
       "      <td>Return to Owner</td>\n",
       "      <td>Spayed Female</td>\n",
       "      <td>330</td>\n",
       "      <td>0.904110</td>\n",
       "      <td>(-0.025, 2.5]</td>\n",
       "      <td>06/07/2014 15:58</td>\n",
       "      <td>...</td>\n",
       "      <td>(-0.025, 2.5]</td>\n",
       "      <td>27/06/2014 11:34</td>\n",
       "      <td>6</td>\n",
       "      <td>2014</td>\n",
       "      <td>2014-06</td>\n",
       "      <td>Friday</td>\n",
       "      <td>11</td>\n",
       "      <td>4</td>\n",
       "      <td>9 days 04:24:00.000000000</td>\n",
       "      <td>9.183333</td>\n",
       "    </tr>\n",
       "    <tr>\n",
       "      <td>17472</td>\n",
       "      <td>1 year</td>\n",
       "      <td>A682781</td>\n",
       "      <td>02/01/2013 0:00</td>\n",
       "      <td>SCRP</td>\n",
       "      <td>Transfer</td>\n",
       "      <td>Neutered Male</td>\n",
       "      <td>365</td>\n",
       "      <td>1.000000</td>\n",
       "      <td>(-0.025, 2.5]</td>\n",
       "      <td>13/08/2014 18:41</td>\n",
       "      <td>...</td>\n",
       "      <td>(-0.025, 2.5]</td>\n",
       "      <td>03/07/2014 9:00</td>\n",
       "      <td>8</td>\n",
       "      <td>2014</td>\n",
       "      <td>2014-08</td>\n",
       "      <td>Wednesday</td>\n",
       "      <td>18</td>\n",
       "      <td>1</td>\n",
       "      <td>41 days 09:41:00.000000000</td>\n",
       "      <td>41.403472</td>\n",
       "    </tr>\n",
       "    <tr>\n",
       "      <td>18284</td>\n",
       "      <td>4 months</td>\n",
       "      <td>A683782</td>\n",
       "      <td>15/02/2014 0:00</td>\n",
       "      <td>SCRP</td>\n",
       "      <td>Transfer</td>\n",
       "      <td>Neutered Male</td>\n",
       "      <td>120</td>\n",
       "      <td>0.328767</td>\n",
       "      <td>(-0.025, 2.5]</td>\n",
       "      <td>19/07/2014 15:55</td>\n",
       "      <td>...</td>\n",
       "      <td>(-0.025, 2.5]</td>\n",
       "      <td>16/07/2014 9:00</td>\n",
       "      <td>7</td>\n",
       "      <td>2014</td>\n",
       "      <td>2014-07</td>\n",
       "      <td>Saturday</td>\n",
       "      <td>15</td>\n",
       "      <td>1</td>\n",
       "      <td>3 days 06:55:00.000000000</td>\n",
       "      <td>3.288194</td>\n",
       "    </tr>\n",
       "  </tbody>\n",
       "</table>\n",
       "<p>5 rows × 41 columns</p>\n",
       "</div>"
      ],
      "text/plain": [
       "      age_upon_outcome animal_id_outcome    date_of_birth outcome_subtype  \\\n",
       "1126           8 years           A561806  30/11/2008 0:00             NaN   \n",
       "6656           5 years           A667596  20/05/2012 0:00             NaN   \n",
       "6996         11 months           A668183  29/07/2013 0:00             NaN   \n",
       "17472           1 year           A682781  02/01/2013 0:00            SCRP   \n",
       "18284         4 months           A683782  15/02/2014 0:00            SCRP   \n",
       "\n",
       "          outcome_type sex_upon_outcome  age_upon_outcome_(days)  \\\n",
       "1126   Return to Owner    Spayed Female                     2920   \n",
       "6656   Return to Owner    Spayed Female                     1825   \n",
       "6996   Return to Owner    Spayed Female                      330   \n",
       "17472         Transfer    Neutered Male                      365   \n",
       "18284         Transfer    Neutered Male                      120   \n",
       "\n",
       "       age_upon_outcome_(years) age_upon_outcome_age_group  outcome_datetime  \\\n",
       "1126                   8.000000                (7.5, 10.0]  05/06/2017 18:09   \n",
       "6656                   5.000000                 (2.5, 5.0]  27/03/2018 16:08   \n",
       "6996                   0.904110              (-0.025, 2.5]  06/07/2014 15:58   \n",
       "17472                  1.000000              (-0.025, 2.5]  13/08/2014 18:41   \n",
       "18284                  0.328767              (-0.025, 2.5]  19/07/2014 15:55   \n",
       "\n",
       "       ...  age_upon_intake_age_group   intake_datetime intake_month  \\\n",
       "1126   ...                (7.5, 10.0]  05/06/2017 11:36            6   \n",
       "6656   ...                 (2.5, 5.0]  27/03/2018 12:23            3   \n",
       "6996   ...              (-0.025, 2.5]  27/06/2014 11:34            6   \n",
       "17472  ...              (-0.025, 2.5]   03/07/2014 9:00            8   \n",
       "18284  ...              (-0.025, 2.5]   16/07/2014 9:00            7   \n",
       "\n",
       "      intake_year  intake_monthyear  intake_weekday  intake_hour  \\\n",
       "1126         2017           2017-06          Monday           11   \n",
       "6656         2018           2018-03         Tuesday           12   \n",
       "6996         2014           2014-06          Friday           11   \n",
       "17472        2014           2014-08       Wednesday           18   \n",
       "18284        2014           2014-07        Saturday           15   \n",
       "\n",
       "       intake_number             time_in_shelter time_in_shelter_days  \n",
       "1126               1   0 days 06:33:00.000000000             0.272917  \n",
       "6656               1   0 days 03:45:00.000000000             0.156250  \n",
       "6996               4   9 days 04:24:00.000000000             9.183333  \n",
       "17472              1  41 days 09:41:00.000000000            41.403472  \n",
       "18284              1   3 days 06:55:00.000000000             3.288194  \n",
       "\n",
       "[5 rows x 41 columns]"
      ]
     },
     "execution_count": 5,
     "metadata": {},
     "output_type": "execute_result"
    }
   ],
   "source": [
    "print('There are {} duplicated rows'.format(raw_df.duplicated().sum()))\n",
    "raw_df[raw_df.duplicated()].head()"
   ]
  },
  {
   "cell_type": "code",
   "execution_count": 6,
   "metadata": {},
   "outputs": [],
   "source": [
    "no_duplic_df = raw_df.drop_duplicates(keep = 'first')"
   ]
  },
  {
   "cell_type": "code",
   "execution_count": 7,
   "metadata": {
    "scrolled": true
   },
   "outputs": [
    {
     "name": "stdout",
     "output_type": "stream",
     "text": [
      "<class 'pandas.core.frame.DataFrame'>\n",
      "Int64Index: 74875 entries, 0 to 79670\n",
      "Data columns (total 41 columns):\n",
      "age_upon_outcome              74875 non-null object\n",
      "animal_id_outcome             74875 non-null object\n",
      "date_of_birth                 74875 non-null object\n",
      "outcome_subtype               32437 non-null object\n",
      "outcome_type                  74870 non-null object\n",
      "sex_upon_outcome              74875 non-null object\n",
      "age_upon_outcome_(days)       74875 non-null int64\n",
      "age_upon_outcome_(years)      74875 non-null float64\n",
      "age_upon_outcome_age_group    74875 non-null object\n",
      "outcome_datetime              74875 non-null object\n",
      "outcome_month                 74875 non-null int64\n",
      "outcome_year                  74875 non-null int64\n",
      "outcome_monthyear             74875 non-null object\n",
      "outcome_weekday               74875 non-null object\n",
      "outcome_hour                  74875 non-null int64\n",
      "outcome_number                74875 non-null int64\n",
      "dob_year                      74875 non-null int64\n",
      "dob_month                     74875 non-null int64\n",
      "dob_monthyear                 74875 non-null object\n",
      "age_upon_intake               74875 non-null object\n",
      "animal_id_intake              74875 non-null object\n",
      "animal_type                   74875 non-null object\n",
      "breed                         74875 non-null object\n",
      "color                         74875 non-null object\n",
      "found_location                74875 non-null object\n",
      "intake_condition              74875 non-null object\n",
      "intake_type                   74875 non-null object\n",
      "sex_upon_intake               74875 non-null object\n",
      "count                         74875 non-null int64\n",
      "age_upon_intake_(days)        74875 non-null int64\n",
      "age_upon_intake_(years)       74875 non-null float64\n",
      "age_upon_intake_age_group     74875 non-null object\n",
      "intake_datetime               74875 non-null object\n",
      "intake_month                  74875 non-null int64\n",
      "intake_year                   74875 non-null int64\n",
      "intake_monthyear              74875 non-null object\n",
      "intake_weekday                74875 non-null object\n",
      "intake_hour                   74875 non-null int64\n",
      "intake_number                 74875 non-null int64\n",
      "time_in_shelter               74875 non-null object\n",
      "time_in_shelter_days          74875 non-null float64\n",
      "dtypes: float64(3), int64(13), object(25)\n",
      "memory usage: 24.0+ MB\n"
     ]
    }
   ],
   "source": [
    "no_duplic_df.info()"
   ]
  },
  {
   "cell_type": "code",
   "execution_count": 8,
   "metadata": {},
   "outputs": [
    {
     "data": {
      "text/html": [
       "<div>\n",
       "<style scoped>\n",
       "    .dataframe tbody tr th:only-of-type {\n",
       "        vertical-align: middle;\n",
       "    }\n",
       "\n",
       "    .dataframe tbody tr th {\n",
       "        vertical-align: top;\n",
       "    }\n",
       "\n",
       "    .dataframe thead th {\n",
       "        text-align: right;\n",
       "    }\n",
       "</style>\n",
       "<table border=\"1\" class=\"dataframe\">\n",
       "  <thead>\n",
       "    <tr style=\"text-align: right;\">\n",
       "      <th></th>\n",
       "      <th>age_upon_outcome</th>\n",
       "      <th>animal_id_outcome</th>\n",
       "      <th>outcome_type</th>\n",
       "      <th>sex_upon_outcome</th>\n",
       "      <th>age_upon_outcome_(days)</th>\n",
       "      <th>age_upon_outcome_(years)</th>\n",
       "      <th>age_upon_outcome_age_group</th>\n",
       "      <th>age_upon_intake</th>\n",
       "      <th>animal_id_intake</th>\n",
       "      <th>animal_type</th>\n",
       "      <th>breed</th>\n",
       "      <th>color</th>\n",
       "      <th>intake_condition</th>\n",
       "      <th>intake_type</th>\n",
       "      <th>sex_upon_intake</th>\n",
       "      <th>age_upon_intake_(days)</th>\n",
       "      <th>age_upon_intake_(years)</th>\n",
       "      <th>age_upon_intake_age_group</th>\n",
       "      <th>time_in_shelter_days</th>\n",
       "    </tr>\n",
       "  </thead>\n",
       "  <tbody>\n",
       "    <tr>\n",
       "      <td>0</td>\n",
       "      <td>10 years</td>\n",
       "      <td>A006100</td>\n",
       "      <td>Return to Owner</td>\n",
       "      <td>Neutered Male</td>\n",
       "      <td>3650</td>\n",
       "      <td>10.0</td>\n",
       "      <td>(7.5, 10.0]</td>\n",
       "      <td>10 years</td>\n",
       "      <td>A006100</td>\n",
       "      <td>Dog</td>\n",
       "      <td>Spinone Italiano Mix</td>\n",
       "      <td>Yellow/White</td>\n",
       "      <td>Normal</td>\n",
       "      <td>Stray</td>\n",
       "      <td>Neutered Male</td>\n",
       "      <td>3650</td>\n",
       "      <td>10.0</td>\n",
       "      <td>(7.5, 10.0]</td>\n",
       "      <td>0.588194</td>\n",
       "    </tr>\n",
       "    <tr>\n",
       "      <td>1</td>\n",
       "      <td>7 years</td>\n",
       "      <td>A006100</td>\n",
       "      <td>Return to Owner</td>\n",
       "      <td>Neutered Male</td>\n",
       "      <td>2555</td>\n",
       "      <td>7.0</td>\n",
       "      <td>(5.0, 7.5]</td>\n",
       "      <td>7 years</td>\n",
       "      <td>A006100</td>\n",
       "      <td>Dog</td>\n",
       "      <td>Spinone Italiano Mix</td>\n",
       "      <td>Yellow/White</td>\n",
       "      <td>Normal</td>\n",
       "      <td>Public Assist</td>\n",
       "      <td>Neutered Male</td>\n",
       "      <td>2555</td>\n",
       "      <td>7.0</td>\n",
       "      <td>(5.0, 7.5]</td>\n",
       "      <td>1.259722</td>\n",
       "    </tr>\n",
       "    <tr>\n",
       "      <td>2</td>\n",
       "      <td>6 years</td>\n",
       "      <td>A006100</td>\n",
       "      <td>Return to Owner</td>\n",
       "      <td>Neutered Male</td>\n",
       "      <td>2190</td>\n",
       "      <td>6.0</td>\n",
       "      <td>(5.0, 7.5]</td>\n",
       "      <td>6 years</td>\n",
       "      <td>A006100</td>\n",
       "      <td>Dog</td>\n",
       "      <td>Spinone Italiano Mix</td>\n",
       "      <td>Yellow/White</td>\n",
       "      <td>Normal</td>\n",
       "      <td>Public Assist</td>\n",
       "      <td>Neutered Male</td>\n",
       "      <td>2190</td>\n",
       "      <td>6.0</td>\n",
       "      <td>(5.0, 7.5]</td>\n",
       "      <td>1.113889</td>\n",
       "    </tr>\n",
       "    <tr>\n",
       "      <td>3</td>\n",
       "      <td>10 years</td>\n",
       "      <td>A047759</td>\n",
       "      <td>Transfer</td>\n",
       "      <td>Neutered Male</td>\n",
       "      <td>3650</td>\n",
       "      <td>10.0</td>\n",
       "      <td>(7.5, 10.0]</td>\n",
       "      <td>10 years</td>\n",
       "      <td>A047759</td>\n",
       "      <td>Dog</td>\n",
       "      <td>Dachshund</td>\n",
       "      <td>Tricolor</td>\n",
       "      <td>Normal</td>\n",
       "      <td>Owner Surrender</td>\n",
       "      <td>Neutered Male</td>\n",
       "      <td>3650</td>\n",
       "      <td>10.0</td>\n",
       "      <td>(7.5, 10.0]</td>\n",
       "      <td>4.970139</td>\n",
       "    </tr>\n",
       "    <tr>\n",
       "      <td>4</td>\n",
       "      <td>16 years</td>\n",
       "      <td>A134067</td>\n",
       "      <td>Return to Owner</td>\n",
       "      <td>Neutered Male</td>\n",
       "      <td>5840</td>\n",
       "      <td>16.0</td>\n",
       "      <td>(15.0, 17.5]</td>\n",
       "      <td>16 years</td>\n",
       "      <td>A134067</td>\n",
       "      <td>Dog</td>\n",
       "      <td>Shetland Sheepdog</td>\n",
       "      <td>Brown/White</td>\n",
       "      <td>Injured</td>\n",
       "      <td>Public Assist</td>\n",
       "      <td>Neutered Male</td>\n",
       "      <td>5840</td>\n",
       "      <td>16.0</td>\n",
       "      <td>(15.0, 17.5]</td>\n",
       "      <td>0.119444</td>\n",
       "    </tr>\n",
       "  </tbody>\n",
       "</table>\n",
       "</div>"
      ],
      "text/plain": [
       "  age_upon_outcome animal_id_outcome     outcome_type sex_upon_outcome  \\\n",
       "0         10 years           A006100  Return to Owner    Neutered Male   \n",
       "1          7 years           A006100  Return to Owner    Neutered Male   \n",
       "2          6 years           A006100  Return to Owner    Neutered Male   \n",
       "3         10 years           A047759         Transfer    Neutered Male   \n",
       "4         16 years           A134067  Return to Owner    Neutered Male   \n",
       "\n",
       "   age_upon_outcome_(days)  age_upon_outcome_(years)  \\\n",
       "0                     3650                      10.0   \n",
       "1                     2555                       7.0   \n",
       "2                     2190                       6.0   \n",
       "3                     3650                      10.0   \n",
       "4                     5840                      16.0   \n",
       "\n",
       "  age_upon_outcome_age_group age_upon_intake animal_id_intake animal_type  \\\n",
       "0                (7.5, 10.0]        10 years          A006100         Dog   \n",
       "1                 (5.0, 7.5]         7 years          A006100         Dog   \n",
       "2                 (5.0, 7.5]         6 years          A006100         Dog   \n",
       "3                (7.5, 10.0]        10 years          A047759         Dog   \n",
       "4               (15.0, 17.5]        16 years          A134067         Dog   \n",
       "\n",
       "                  breed         color intake_condition      intake_type  \\\n",
       "0  Spinone Italiano Mix  Yellow/White           Normal            Stray   \n",
       "1  Spinone Italiano Mix  Yellow/White           Normal    Public Assist   \n",
       "2  Spinone Italiano Mix  Yellow/White           Normal    Public Assist   \n",
       "3             Dachshund      Tricolor           Normal  Owner Surrender   \n",
       "4     Shetland Sheepdog   Brown/White          Injured    Public Assist   \n",
       "\n",
       "  sex_upon_intake  age_upon_intake_(days)  age_upon_intake_(years)  \\\n",
       "0   Neutered Male                    3650                     10.0   \n",
       "1   Neutered Male                    2555                      7.0   \n",
       "2   Neutered Male                    2190                      6.0   \n",
       "3   Neutered Male                    3650                     10.0   \n",
       "4   Neutered Male                    5840                     16.0   \n",
       "\n",
       "  age_upon_intake_age_group  time_in_shelter_days  \n",
       "0               (7.5, 10.0]              0.588194  \n",
       "1                (5.0, 7.5]              1.259722  \n",
       "2                (5.0, 7.5]              1.113889  \n",
       "3               (7.5, 10.0]              4.970139  \n",
       "4              (15.0, 17.5]              0.119444  "
      ]
     },
     "execution_count": 8,
     "metadata": {},
     "output_type": "execute_result"
    }
   ],
   "source": [
    "clean_df = no_duplic_df.drop(columns=['count','found_location','outcome_subtype', 'intake_number', 'intake_hour', 'intake_weekday','intake_monthyear', 'intake_year', 'intake_month','outcome_hour', 'outcome_weekday','outcome_monthyear', 'outcome_year', 'outcome_month','outcome_number','dob_monthyear','dob_month','dob_year','time_in_shelter','intake_datetime','date_of_birth','outcome_datetime'])\n",
    "clean_df.head()"
   ]
  },
  {
   "cell_type": "code",
   "execution_count": 9,
   "metadata": {},
   "outputs": [
    {
     "data": {
      "text/plain": [
       "(20.0, 22.5]         4\n",
       "(17.5, 20.0]        52\n",
       "(15.0, 17.5]       166\n",
       "(12.5, 15.0]       865\n",
       "(10.0, 12.5]      1056\n",
       "(5.0, 7.5]        3408\n",
       "(7.5, 10.0]       3607\n",
       "(2.5, 5.0]       10686\n",
       "(-0.025, 2.5]    55031\n",
       "Name: age_upon_outcome_age_group, dtype: int64"
      ]
     },
     "execution_count": 9,
     "metadata": {},
     "output_type": "execute_result"
    }
   ],
   "source": [
    "clean_df['age_upon_outcome_age_group'].value_counts(ascending=True)"
   ]
  },
  {
   "cell_type": "code",
   "execution_count": 10,
   "metadata": {},
   "outputs": [
    {
     "data": {
      "text/plain": [
       "(20.0, 22.5]         4\n",
       "(17.5, 20.0]        51\n",
       "(15.0, 17.5]       165\n",
       "(12.5, 15.0]       839\n",
       "(10.0, 12.5]      1039\n",
       "(5.0, 7.5]        3408\n",
       "(7.5, 10.0]       3527\n",
       "(2.5, 5.0]       10631\n",
       "(-0.025, 2.5]    55211\n",
       "Name: age_upon_intake_age_group, dtype: int64"
      ]
     },
     "execution_count": 10,
     "metadata": {},
     "output_type": "execute_result"
    }
   ],
   "source": [
    "clean_df['age_upon_intake_age_group'].value_counts(ascending=True)"
   ]
  },
  {
   "cell_type": "code",
   "execution_count": 11,
   "metadata": {},
   "outputs": [
    {
     "name": "stdout",
     "output_type": "stream",
     "text": [
      "Amount of pets that aged in shlter: 559\n"
     ]
    }
   ],
   "source": [
    "age_dif = clean_df[clean_df['age_upon_outcome_age_group']!= clean_df['age_upon_intake_age_group']]\n",
    "num_age_dif = len(pd.unique(age_dif['animal_id_outcome']))\n",
    "print(f'Amount of pets that aged in shlter: {num_age_dif}')\n"
   ]
  },
  {
   "cell_type": "code",
   "execution_count": 12,
   "metadata": {},
   "outputs": [
    {
     "data": {
      "text/plain": [
       "Stray                 55183\n",
       "Owner Surrender       14679\n",
       "Public Assist          4773\n",
       "Euthanasia Request      240\n",
       "Name: intake_type, dtype: int64"
      ]
     },
     "execution_count": 12,
     "metadata": {},
     "output_type": "execute_result"
    }
   ],
   "source": [
    "clean_df['intake_type'].value_counts()"
   ]
  },
  {
   "cell_type": "code",
   "execution_count": 13,
   "metadata": {},
   "outputs": [
    {
     "data": {
      "text/plain": [
       "Dog    45352\n",
       "Cat    29523\n",
       "Name: animal_type, dtype: int64"
      ]
     },
     "execution_count": 13,
     "metadata": {},
     "output_type": "execute_result"
    }
   ],
   "source": [
    "clean_df['animal_type'].value_counts()"
   ]
  },
  {
   "cell_type": "code",
   "execution_count": 14,
   "metadata": {},
   "outputs": [
    {
     "name": "stdout",
     "output_type": "stream",
     "text": [
      "Number of Unique Dog Breeds: 1919\n",
      "Number of Uniqut Cat Breeds: 82\n"
     ]
    }
   ],
   "source": [
    "print(f\"Number of Unique Dog Breeds: \" + str(len(clean_df[clean_df['animal_type'] == 'Dog']['breed'].unique())))\n",
    "print(f\"Number of Uniqut Cat Breeds: \" + str(len(clean_df[clean_df['animal_type'] == 'Cat']['breed'].unique())))"
   ]
  },
  {
   "cell_type": "code",
   "execution_count": 15,
   "metadata": {},
   "outputs": [
    {
     "data": {
      "text/plain": [
       "Pit Bull Mix                           6253\n",
       "Chihuahua Shorthair Mix                4831\n",
       "Labrador Retriever Mix                 4789\n",
       "German Shepherd Mix                    1950\n",
       "Australian Cattle Dog Mix              1099\n",
       "                                       ... \n",
       "Australian Shepherd/Brittany              1\n",
       "Miniature Poodle/Chihuahua Longhair       1\n",
       "Alaskan Malamute/Alaskan Husky            1\n",
       "Dachshund Wirehair/Standard Poodle        1\n",
       "Rat Terrier/Queensland Heeler             1\n",
       "Name: breed, Length: 1919, dtype: int64"
      ]
     },
     "execution_count": 15,
     "metadata": {},
     "output_type": "execute_result"
    }
   ],
   "source": [
    "clean_df[clean_df['animal_type'] == 'Dog']['breed'].value_counts()"
   ]
  },
  {
   "cell_type": "code",
   "execution_count": 16,
   "metadata": {},
   "outputs": [],
   "source": [
    "def breeds(x):\n",
    "    if bool(re.search('/', x)):\n",
    "        return 'Mixed Breed'\n",
    "    elif bool(re.search('Mix', x)):\n",
    "        return 'Mixed Breed'\n",
    "    else:\n",
    "        return x"
   ]
  },
  {
   "cell_type": "code",
   "execution_count": 17,
   "metadata": {},
   "outputs": [
    {
     "data": {
      "text/plain": [
       "Mixed Breed            42182\n",
       "Labrador Retriever       239\n",
       "German Shepherd          236\n",
       "Pit Bull                 233\n",
       "Chihuahua Shorthair      204\n",
       "Siberian Husky           115\n",
       "Shih Tzu                 114\n",
       "Rottweiler               105\n",
       "Dachshund                101\n",
       "Boxer                     92\n",
       "Name: breed, dtype: int64"
      ]
     },
     "execution_count": 17,
     "metadata": {},
     "output_type": "execute_result"
    }
   ],
   "source": [
    "#Dogs Breed Table\n",
    "clean_df[clean_df['animal_type'] == 'Dog']['breed'].apply(breeds).value_counts().head(10)"
   ]
  },
  {
   "cell_type": "code",
   "execution_count": 18,
   "metadata": {},
   "outputs": [
    {
     "data": {
      "text/plain": [
       "Mixed Breed             28841\n",
       "Domestic Shorthair        387\n",
       "Domestic Medium Hair      132\n",
       "Siamese                    63\n",
       "Domestic Longhair          44\n",
       "Maine Coon                 10\n",
       "Persian                     9\n",
       "Snowshoe                    8\n",
       "Himalayan                   6\n",
       "Russian Blue                5\n",
       "Name: breed, dtype: int64"
      ]
     },
     "execution_count": 18,
     "metadata": {},
     "output_type": "execute_result"
    }
   ],
   "source": [
    "#Cats breed table\n",
    "clean_df[clean_df['animal_type'] == 'Cat']['breed'].apply(breeds).value_counts().head(10)"
   ]
  },
  {
   "cell_type": "code",
   "execution_count": 19,
   "metadata": {},
   "outputs": [
    {
     "name": "stdout",
     "output_type": "stream",
     "text": [
      "<class 'pandas.core.frame.DataFrame'>\n",
      "Int64Index: 74870 entries, 0 to 79670\n",
      "Data columns (total 19 columns):\n",
      "age_upon_outcome              74870 non-null object\n",
      "animal_id_outcome             74870 non-null object\n",
      "outcome_type                  74870 non-null object\n",
      "sex_upon_outcome              74870 non-null object\n",
      "age_upon_outcome_(days)       74870 non-null int64\n",
      "age_upon_outcome_(years)      74870 non-null float64\n",
      "age_upon_outcome_age_group    74870 non-null object\n",
      "age_upon_intake               74870 non-null object\n",
      "animal_id_intake              74870 non-null object\n",
      "animal_type                   74870 non-null object\n",
      "breed                         74870 non-null object\n",
      "color                         74870 non-null object\n",
      "intake_condition              74870 non-null object\n",
      "intake_type                   74870 non-null object\n",
      "sex_upon_intake               74870 non-null object\n",
      "age_upon_intake_(days)        74870 non-null int64\n",
      "age_upon_intake_(years)       74870 non-null float64\n",
      "age_upon_intake_age_group     74870 non-null object\n",
      "time_in_shelter_days          74870 non-null float64\n",
      "dtypes: float64(3), int64(2), object(14)\n",
      "memory usage: 11.4+ MB\n"
     ]
    }
   ],
   "source": [
    "clean_df.dropna(how = 'any', inplace = True)\n",
    "clean_df.info()"
   ]
  },
  {
   "cell_type": "code",
   "execution_count": 20,
   "metadata": {},
   "outputs": [
    {
     "data": {
      "text/html": [
       "<div>\n",
       "<style scoped>\n",
       "    .dataframe tbody tr th:only-of-type {\n",
       "        vertical-align: middle;\n",
       "    }\n",
       "\n",
       "    .dataframe tbody tr th {\n",
       "        vertical-align: top;\n",
       "    }\n",
       "\n",
       "    .dataframe thead th {\n",
       "        text-align: right;\n",
       "    }\n",
       "</style>\n",
       "<table border=\"1\" class=\"dataframe\">\n",
       "  <thead>\n",
       "    <tr style=\"text-align: right;\">\n",
       "      <th></th>\n",
       "      <th>age_upon_outcome</th>\n",
       "      <th>animal_id_outcome</th>\n",
       "      <th>outcome_type</th>\n",
       "      <th>sex_upon_outcome</th>\n",
       "      <th>age_upon_outcome_(days)</th>\n",
       "      <th>age_upon_outcome_(years)</th>\n",
       "      <th>age_upon_outcome_age_group</th>\n",
       "      <th>age_upon_intake</th>\n",
       "      <th>animal_id_intake</th>\n",
       "      <th>animal_type</th>\n",
       "      <th>breed</th>\n",
       "      <th>color</th>\n",
       "      <th>intake_condition</th>\n",
       "      <th>intake_type</th>\n",
       "      <th>sex_upon_intake</th>\n",
       "      <th>age_upon_intake_(days)</th>\n",
       "      <th>age_upon_intake_(years)</th>\n",
       "      <th>age_upon_intake_age_group</th>\n",
       "      <th>time_in_shelter_days</th>\n",
       "    </tr>\n",
       "  </thead>\n",
       "  <tbody>\n",
       "    <tr>\n",
       "      <td>0</td>\n",
       "      <td>10 years</td>\n",
       "      <td>A006100</td>\n",
       "      <td>Return to Owner</td>\n",
       "      <td>Neutered Male</td>\n",
       "      <td>3650</td>\n",
       "      <td>10.0</td>\n",
       "      <td>(7.5, 10.0]</td>\n",
       "      <td>10 years</td>\n",
       "      <td>A006100</td>\n",
       "      <td>Dog</td>\n",
       "      <td>Spinone Italiano Mix</td>\n",
       "      <td>Yellow/White</td>\n",
       "      <td>Normal</td>\n",
       "      <td>Stray</td>\n",
       "      <td>Neutered Male</td>\n",
       "      <td>3650</td>\n",
       "      <td>10.0</td>\n",
       "      <td>(7.5, 10.0]</td>\n",
       "      <td>0.588194</td>\n",
       "    </tr>\n",
       "    <tr>\n",
       "      <td>1</td>\n",
       "      <td>7 years</td>\n",
       "      <td>A006100</td>\n",
       "      <td>Return to Owner</td>\n",
       "      <td>Neutered Male</td>\n",
       "      <td>2555</td>\n",
       "      <td>7.0</td>\n",
       "      <td>(5.0, 7.5]</td>\n",
       "      <td>7 years</td>\n",
       "      <td>A006100</td>\n",
       "      <td>Dog</td>\n",
       "      <td>Spinone Italiano Mix</td>\n",
       "      <td>Yellow/White</td>\n",
       "      <td>Normal</td>\n",
       "      <td>Public Assist</td>\n",
       "      <td>Neutered Male</td>\n",
       "      <td>2555</td>\n",
       "      <td>7.0</td>\n",
       "      <td>(5.0, 7.5]</td>\n",
       "      <td>1.259722</td>\n",
       "    </tr>\n",
       "    <tr>\n",
       "      <td>2</td>\n",
       "      <td>6 years</td>\n",
       "      <td>A006100</td>\n",
       "      <td>Return to Owner</td>\n",
       "      <td>Neutered Male</td>\n",
       "      <td>2190</td>\n",
       "      <td>6.0</td>\n",
       "      <td>(5.0, 7.5]</td>\n",
       "      <td>6 years</td>\n",
       "      <td>A006100</td>\n",
       "      <td>Dog</td>\n",
       "      <td>Spinone Italiano Mix</td>\n",
       "      <td>Yellow/White</td>\n",
       "      <td>Normal</td>\n",
       "      <td>Public Assist</td>\n",
       "      <td>Neutered Male</td>\n",
       "      <td>2190</td>\n",
       "      <td>6.0</td>\n",
       "      <td>(5.0, 7.5]</td>\n",
       "      <td>1.113889</td>\n",
       "    </tr>\n",
       "    <tr>\n",
       "      <td>3</td>\n",
       "      <td>10 years</td>\n",
       "      <td>A047759</td>\n",
       "      <td>Transfer</td>\n",
       "      <td>Neutered Male</td>\n",
       "      <td>3650</td>\n",
       "      <td>10.0</td>\n",
       "      <td>(7.5, 10.0]</td>\n",
       "      <td>10 years</td>\n",
       "      <td>A047759</td>\n",
       "      <td>Dog</td>\n",
       "      <td>Dachshund</td>\n",
       "      <td>Tricolor</td>\n",
       "      <td>Normal</td>\n",
       "      <td>Owner Surrender</td>\n",
       "      <td>Neutered Male</td>\n",
       "      <td>3650</td>\n",
       "      <td>10.0</td>\n",
       "      <td>(7.5, 10.0]</td>\n",
       "      <td>4.970139</td>\n",
       "    </tr>\n",
       "    <tr>\n",
       "      <td>4</td>\n",
       "      <td>16 years</td>\n",
       "      <td>A134067</td>\n",
       "      <td>Return to Owner</td>\n",
       "      <td>Neutered Male</td>\n",
       "      <td>5840</td>\n",
       "      <td>16.0</td>\n",
       "      <td>(15.0, 17.5]</td>\n",
       "      <td>16 years</td>\n",
       "      <td>A134067</td>\n",
       "      <td>Dog</td>\n",
       "      <td>Shetland Sheepdog</td>\n",
       "      <td>Brown/White</td>\n",
       "      <td>Injured</td>\n",
       "      <td>Public Assist</td>\n",
       "      <td>Neutered Male</td>\n",
       "      <td>5840</td>\n",
       "      <td>16.0</td>\n",
       "      <td>(15.0, 17.5]</td>\n",
       "      <td>0.119444</td>\n",
       "    </tr>\n",
       "  </tbody>\n",
       "</table>\n",
       "</div>"
      ],
      "text/plain": [
       "  age_upon_outcome animal_id_outcome     outcome_type sex_upon_outcome  \\\n",
       "0         10 years           A006100  Return to Owner    Neutered Male   \n",
       "1          7 years           A006100  Return to Owner    Neutered Male   \n",
       "2          6 years           A006100  Return to Owner    Neutered Male   \n",
       "3         10 years           A047759         Transfer    Neutered Male   \n",
       "4         16 years           A134067  Return to Owner    Neutered Male   \n",
       "\n",
       "   age_upon_outcome_(days)  age_upon_outcome_(years)  \\\n",
       "0                     3650                      10.0   \n",
       "1                     2555                       7.0   \n",
       "2                     2190                       6.0   \n",
       "3                     3650                      10.0   \n",
       "4                     5840                      16.0   \n",
       "\n",
       "  age_upon_outcome_age_group age_upon_intake animal_id_intake animal_type  \\\n",
       "0                (7.5, 10.0]        10 years          A006100         Dog   \n",
       "1                 (5.0, 7.5]         7 years          A006100         Dog   \n",
       "2                 (5.0, 7.5]         6 years          A006100         Dog   \n",
       "3                (7.5, 10.0]        10 years          A047759         Dog   \n",
       "4               (15.0, 17.5]        16 years          A134067         Dog   \n",
       "\n",
       "                  breed         color intake_condition      intake_type  \\\n",
       "0  Spinone Italiano Mix  Yellow/White           Normal            Stray   \n",
       "1  Spinone Italiano Mix  Yellow/White           Normal    Public Assist   \n",
       "2  Spinone Italiano Mix  Yellow/White           Normal    Public Assist   \n",
       "3             Dachshund      Tricolor           Normal  Owner Surrender   \n",
       "4     Shetland Sheepdog   Brown/White          Injured    Public Assist   \n",
       "\n",
       "  sex_upon_intake  age_upon_intake_(days)  age_upon_intake_(years)  \\\n",
       "0   Neutered Male                    3650                     10.0   \n",
       "1   Neutered Male                    2555                      7.0   \n",
       "2   Neutered Male                    2190                      6.0   \n",
       "3   Neutered Male                    3650                     10.0   \n",
       "4   Neutered Male                    5840                     16.0   \n",
       "\n",
       "  age_upon_intake_age_group  time_in_shelter_days  \n",
       "0               (7.5, 10.0]              0.588194  \n",
       "1                (5.0, 7.5]              1.259722  \n",
       "2                (5.0, 7.5]              1.113889  \n",
       "3               (7.5, 10.0]              4.970139  \n",
       "4              (15.0, 17.5]              0.119444  "
      ]
     },
     "execution_count": 20,
     "metadata": {},
     "output_type": "execute_result"
    }
   ],
   "source": [
    "clean_df.head()"
   ]
  },
  {
   "cell_type": "code",
   "execution_count": 21,
   "metadata": {},
   "outputs": [
    {
     "data": {
      "text/plain": [
       "67211"
      ]
     },
     "execution_count": 21,
     "metadata": {},
     "output_type": "execute_result"
    }
   ],
   "source": [
    "#n - number of different pets (Dogs & Cats)\n",
    "#there are pets that are registered few times (back in shlter)\n",
    "n = len(pd.unique(clean_df['animal_id_outcome']))\n",
    "n"
   ]
  },
  {
   "cell_type": "code",
   "execution_count": 26,
   "metadata": {},
   "outputs": [
    {
     "data": {
      "text/plain": [
       "Stray                 55180\n",
       "Owner Surrender       14679\n",
       "Public Assist          4771\n",
       "Euthanasia Request      240\n",
       "Name: intake_type, dtype: int64"
      ]
     },
     "execution_count": 26,
     "metadata": {},
     "output_type": "execute_result"
    }
   ],
   "source": [
    "intake_type_count = clean_df['intake_type'].value_counts()\n",
    "intake_type_count"
   ]
  },
  {
   "cell_type": "code",
   "execution_count": 27,
   "metadata": {},
   "outputs": [
    {
     "data": {
      "text/plain": [
       "<matplotlib.axes._subplots.AxesSubplot at 0x7fb42b3bf950>"
      ]
     },
     "execution_count": 27,
     "metadata": {},
     "output_type": "execute_result"
    },
    {
     "data": {
      "image/png": "[encoded data removed]",
      "text/plain": [
       "<Figure size 432x288 with 1 Axes>"
      ]
     },
     "metadata": {},
     "output_type": "display_data"
    }
   ],
   "source": [
    "intake_type_count.plot(kind='pie')"
   ]
  },
  {
   "cell_type": "code",
   "execution_count": 44,
   "metadata": {},
   "outputs": [
    {
     "data": {
      "text/plain": [
       "<matplotlib.axes._subplots.AxesSubplot at 0x7fb4339a2410>"
      ]
     },
     "execution_count": 44,
     "metadata": {},
     "output_type": "execute_result"
    },
    {
     "data": {
      "image/png": "[encoded data removed]",
      "text/plain": [
       "<Figure size 432x288 with 1 Axes>"
      ]
     },
     "metadata": {},
     "output_type": "display_data"
    }
   ],
   "source": [
    "clean_df['intake_type'].str.get_dummies().sum().plot.pie(label='Genre', autopct='%1.0f%%')"
   ]
  },
  {
   "cell_type": "code",
   "execution_count": 28,
   "metadata": {},
   "outputs": [
    {
     "data": {
      "text/plain": [
       "Adoption           33245\n",
       "Transfer           23124\n",
       "Return to Owner    14736\n",
       "Euthanasia          2974\n",
       "Died                 544\n",
       "Rto-Adopt            179\n",
       "Missing               45\n",
       "Disposal              23\n",
       "Name: outcome_type, dtype: int64"
      ]
     },
     "execution_count": 28,
     "metadata": {},
     "output_type": "execute_result"
    }
   ],
   "source": [
    "outcome_type_count = clean_df['outcome_type'].value_counts()\n",
    "outcome_type_count"
   ]
  },
  {
   "cell_type": "code",
   "execution_count": 43,
   "metadata": {},
   "outputs": [
    {
     "data": {
      "text/plain": [
       "<matplotlib.axes._subplots.AxesSubplot at 0x7fb435dee350>"
      ]
     },
     "execution_count": 43,
     "metadata": {},
     "output_type": "execute_result"
    },
    {
     "data": {
      "image/png": "[encoded data removed]",
      "text/plain": [
       "<Figure size 576x576 with 1 Axes>"
      ]
     },
     "metadata": {},
     "output_type": "display_data"
    }
   ],
   "source": [
    "outcome_type_count.plot(kind='pie',figsize=(8, 8))"
   ]
  },
  {
   "cell_type": "code",
   "execution_count": null,
   "metadata": {},
   "outputs": [],
   "source": [
    "clean_df"
   ]
  },
  {
   "cell_type": "code",
   "execution_count": null,
   "metadata": {},
   "outputs": [],
   "source": [
    "clean_df.to_csv('clean_outcome_intake.csv')"
   ]
  }
 ],
 "metadata": {
  "kernelspec": {
   "display_name": "Python 3",
   "language": "python",
   "name": "python3"
  },
  "language_info": {
   "codemirror_mode": {
    "name": "ipython",
    "version": 3
   },
   "file_extension": ".py",
   "mimetype": "text/x-python",
   "name": "python",
   "nbconvert_exporter": "python",
   "pygments_lexer": "ipython3",
   "version": "3.7.4"
  }
 },
 "nbformat": 4,
 "nbformat_minor": 2
}
