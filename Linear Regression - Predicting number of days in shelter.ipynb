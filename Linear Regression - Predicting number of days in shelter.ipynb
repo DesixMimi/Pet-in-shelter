{
 "cells": [
  {
   "cell_type": "code",
   "execution_count": 1,
   "metadata": {},
   "outputs": [],
   "source": [
    "# imports \n",
    "import numpy as np\n",
    "import pandas as pd\n",
    "from sklearn import linear_model\n",
    "from sklearn.metrics import r2_score, mean_squared_error\n",
    "from sklearn.linear_model import LinearRegression\n",
    "from sklearn.model_selection import train_test_split\n",
    "\n",
    "\n",
    "import re\n",
    "#and visualization setup\n",
    "import matplotlib.pyplot as plt\n",
    "%matplotlib inline  \n",
    "plt.rcParams['figure.figsize'] = (10, 6)\n",
    "import seaborn as sns\n",
    "\n",
    "from mpl_toolkits.mplot3d import Axes3D\n",
    "from matplotlib import cm"
   ]
  },
  {
   "cell_type": "code",
   "execution_count": 2,
   "metadata": {},
   "outputs": [
    {
     "data": {
      "text/html": [
       "<div>\n",
       "<style scoped>\n",
       "    .dataframe tbody tr th:only-of-type {\n",
       "        vertical-align: middle;\n",
       "    }\n",
       "\n",
       "    .dataframe tbody tr th {\n",
       "        vertical-align: top;\n",
       "    }\n",
       "\n",
       "    .dataframe thead th {\n",
       "        text-align: right;\n",
       "    }\n",
       "</style>\n",
       "<table border=\"1\" class=\"dataframe\">\n",
       "  <thead>\n",
       "    <tr style=\"text-align: right;\">\n",
       "      <th></th>\n",
       "      <th>animal_id_outcome</th>\n",
       "      <th>age_upon_intake</th>\n",
       "      <th>animal_id_intake</th>\n",
       "      <th>animal_type</th>\n",
       "      <th>breed</th>\n",
       "      <th>color</th>\n",
       "      <th>intake_condition</th>\n",
       "      <th>intake_type</th>\n",
       "      <th>sex_upon_intake</th>\n",
       "      <th>age_upon_intake_(days)</th>\n",
       "      <th>age_upon_intake_(years)</th>\n",
       "      <th>time_in_shelter_days</th>\n",
       "    </tr>\n",
       "  </thead>\n",
       "  <tbody>\n",
       "    <tr>\n",
       "      <td>0</td>\n",
       "      <td>A006100</td>\n",
       "      <td>10 years</td>\n",
       "      <td>A006100</td>\n",
       "      <td>Dog</td>\n",
       "      <td>Spinone Italiano Mix</td>\n",
       "      <td>Yellow/White</td>\n",
       "      <td>Normal</td>\n",
       "      <td>Stray</td>\n",
       "      <td>Neutered Male</td>\n",
       "      <td>3650</td>\n",
       "      <td>10.0</td>\n",
       "      <td>0.588194</td>\n",
       "    </tr>\n",
       "    <tr>\n",
       "      <td>1</td>\n",
       "      <td>A006100</td>\n",
       "      <td>7 years</td>\n",
       "      <td>A006100</td>\n",
       "      <td>Dog</td>\n",
       "      <td>Spinone Italiano Mix</td>\n",
       "      <td>Yellow/White</td>\n",
       "      <td>Normal</td>\n",
       "      <td>Public Assist</td>\n",
       "      <td>Neutered Male</td>\n",
       "      <td>2555</td>\n",
       "      <td>7.0</td>\n",
       "      <td>1.259722</td>\n",
       "    </tr>\n",
       "    <tr>\n",
       "      <td>2</td>\n",
       "      <td>A006100</td>\n",
       "      <td>6 years</td>\n",
       "      <td>A006100</td>\n",
       "      <td>Dog</td>\n",
       "      <td>Spinone Italiano Mix</td>\n",
       "      <td>Yellow/White</td>\n",
       "      <td>Normal</td>\n",
       "      <td>Public Assist</td>\n",
       "      <td>Neutered Male</td>\n",
       "      <td>2190</td>\n",
       "      <td>6.0</td>\n",
       "      <td>1.113889</td>\n",
       "    </tr>\n",
       "    <tr>\n",
       "      <td>3</td>\n",
       "      <td>A047759</td>\n",
       "      <td>10 years</td>\n",
       "      <td>A047759</td>\n",
       "      <td>Dog</td>\n",
       "      <td>Dachshund</td>\n",
       "      <td>Tricolor</td>\n",
       "      <td>Normal</td>\n",
       "      <td>Owner Surrender</td>\n",
       "      <td>Neutered Male</td>\n",
       "      <td>3650</td>\n",
       "      <td>10.0</td>\n",
       "      <td>4.970139</td>\n",
       "    </tr>\n",
       "    <tr>\n",
       "      <td>4</td>\n",
       "      <td>A134067</td>\n",
       "      <td>16 years</td>\n",
       "      <td>A134067</td>\n",
       "      <td>Dog</td>\n",
       "      <td>Shetland Sheepdog</td>\n",
       "      <td>Brown/White</td>\n",
       "      <td>Injured</td>\n",
       "      <td>Public Assist</td>\n",
       "      <td>Neutered Male</td>\n",
       "      <td>5840</td>\n",
       "      <td>16.0</td>\n",
       "      <td>0.119444</td>\n",
       "    </tr>\n",
       "  </tbody>\n",
       "</table>\n",
       "</div>"
      ],
      "text/plain": [
       "  animal_id_outcome age_upon_intake animal_id_intake animal_type  \\\n",
       "0           A006100        10 years          A006100         Dog   \n",
       "1           A006100         7 years          A006100         Dog   \n",
       "2           A006100         6 years          A006100         Dog   \n",
       "3           A047759        10 years          A047759         Dog   \n",
       "4           A134067        16 years          A134067         Dog   \n",
       "\n",
       "                  breed         color intake_condition      intake_type  \\\n",
       "0  Spinone Italiano Mix  Yellow/White           Normal            Stray   \n",
       "1  Spinone Italiano Mix  Yellow/White           Normal    Public Assist   \n",
       "2  Spinone Italiano Mix  Yellow/White           Normal    Public Assist   \n",
       "3             Dachshund      Tricolor           Normal  Owner Surrender   \n",
       "4     Shetland Sheepdog   Brown/White          Injured    Public Assist   \n",
       "\n",
       "  sex_upon_intake  age_upon_intake_(days)  age_upon_intake_(years)  \\\n",
       "0   Neutered Male                    3650                     10.0   \n",
       "1   Neutered Male                    2555                      7.0   \n",
       "2   Neutered Male                    2190                      6.0   \n",
       "3   Neutered Male                    3650                     10.0   \n",
       "4   Neutered Male                    5840                     16.0   \n",
       "\n",
       "   time_in_shelter_days  \n",
       "0              0.588194  \n",
       "1              1.259722  \n",
       "2              1.113889  \n",
       "3              4.970139  \n",
       "4              0.119444  "
      ]
     },
     "execution_count": 2,
     "metadata": {},
     "output_type": "execute_result"
    }
   ],
   "source": [
    "path = path = '/Users/desislavamarvakov/Study/HIT/שנה ב׳/סמסטר ב׳/Data Science/Final Project/Code/clean_outcome_intake.csv'\n",
    "df = pd.read_csv(path)\n",
    "df.drop(columns = ['Unnamed: 0','sex_upon_outcome','outcome_type','age_upon_outcome','age_upon_outcome_(days)','age_upon_outcome_(years)','age_upon_outcome_age_group','age_upon_intake_age_group'], inplace = True)\n",
    "df.head()"
   ]
  },
  {
   "cell_type": "code",
   "execution_count": 3,
   "metadata": {},
   "outputs": [
    {
     "data": {
      "text/plain": [
       "count    74870.000000\n",
       "mean         2.163975\n",
       "std          2.960540\n",
       "min          0.000000\n",
       "25%          0.164384\n",
       "50%          1.000000\n",
       "75%          3.000000\n",
       "max         22.000000\n",
       "Name: age_upon_intake_(years), dtype: float64"
      ]
     },
     "execution_count": 3,
     "metadata": {},
     "output_type": "execute_result"
    },
    {
     "data": {
      "image/png": "[encoded data removed]",
      "text/plain": [
       "<Figure size 432x288 with 1 Axes>"
      ]
     },
     "metadata": {
      "needs_background": "light"
     },
     "output_type": "display_data"
    }
   ],
   "source": [
    "sns.boxplot(df['age_upon_intake_(years)'])\n",
    "df['age_upon_intake_(years)'].describe()"
   ]
  },
  {
   "cell_type": "code",
   "execution_count": 4,
   "metadata": {},
   "outputs": [
    {
     "data": {
      "text/plain": [
       "count    74870.000000\n",
       "mean        17.549818\n",
       "std         42.602655\n",
       "min          0.000000\n",
       "25%          1.788889\n",
       "50%          5.136806\n",
       "75%         14.715451\n",
       "max       1606.194444\n",
       "Name: time_in_shelter_days, dtype: float64"
      ]
     },
     "execution_count": 4,
     "metadata": {},
     "output_type": "execute_result"
    },
    {
     "data": {
      "image/png": "[encoded data removed]",
      "text/plain": [
       "<Figure size 432x288 with 1 Axes>"
      ]
     },
     "metadata": {
      "needs_background": "light"
     },
     "output_type": "display_data"
    }
   ],
   "source": [
    "sns.boxplot(df['time_in_shelter_days'])\n",
    "df['time_in_shelter_days'].describe()"
   ]
  },
  {
   "cell_type": "code",
   "execution_count": 5,
   "metadata": {},
   "outputs": [
    {
     "data": {
      "text/plain": [
       "array(['Neutered Male', 'Spayed Female', 'Intact Female', 'Intact Male',\n",
       "       'Unknown'], dtype=object)"
      ]
     },
     "execution_count": 5,
     "metadata": {},
     "output_type": "execute_result"
    }
   ],
   "source": [
    "pd.unique(df['sex_upon_intake'])"
   ]
  },
  {
   "cell_type": "code",
   "execution_count": 6,
   "metadata": {},
   "outputs": [],
   "source": [
    "#Mix 0, pure 1\n",
    "def breedType(x):\n",
    "    if bool(re.search('/', x)):\n",
    "        return 0\n",
    "    elif bool(re.search('Mix', x)):\n",
    "        return 0\n",
    "    else:\n",
    "        return 1"
   ]
  },
  {
   "cell_type": "code",
   "execution_count": 7,
   "metadata": {},
   "outputs": [],
   "source": [
    "#Mix 0, pure 1\n",
    "def colorPurity(x):\n",
    "    if bool(re.search('/', x)):\n",
    "        return 0\n",
    "    elif bool(re.search('Tricolor', x)):\n",
    "        return 0\n",
    "    else:\n",
    "        return 1"
   ]
  },
  {
   "cell_type": "code",
   "execution_count": 8,
   "metadata": {},
   "outputs": [],
   "source": [
    "#male 0, female 1, unknown 2\n",
    "def Gender(x):\n",
    "    if bool(re.search('Male', x)):\n",
    "        return 0\n",
    "    elif bool(re.search('Female', x)):\n",
    "        return 1\n",
    "    else:\n",
    "        return 2"
   ]
  },
  {
   "cell_type": "code",
   "execution_count": 9,
   "metadata": {},
   "outputs": [],
   "source": [
    "def age_group(age):\n",
    "    if age < 1: group = 'puppy_kitten'\n",
    "    elif age < 3: group = 'young'\n",
    "    elif age < 6: group = 'adult'\n",
    "    else: group = 'old'\n",
    "    return group"
   ]
  },
  {
   "cell_type": "code",
   "execution_count": 10,
   "metadata": {},
   "outputs": [],
   "source": [
    "#0 for cats, 1 for dogs\n",
    "def AnimalType(x):\n",
    "    if bool(re.search('Dog', x)):\n",
    "        return 1\n",
    "    else:\n",
    "        return 0"
   ]
  },
  {
   "cell_type": "code",
   "execution_count": 11,
   "metadata": {},
   "outputs": [
    {
     "name": "stdout",
     "output_type": "stream",
     "text": [
      "<class 'pandas.core.frame.DataFrame'>\n",
      "RangeIndex: 74870 entries, 0 to 74869\n",
      "Data columns (total 12 columns):\n",
      "animal_id_outcome          74870 non-null object\n",
      "age_upon_intake            74870 non-null object\n",
      "animal_id_intake           74870 non-null object\n",
      "animal_type                74870 non-null object\n",
      "breed                      74870 non-null object\n",
      "color                      74870 non-null object\n",
      "intake_condition           74870 non-null object\n",
      "intake_type                74870 non-null object\n",
      "sex_upon_intake            74870 non-null object\n",
      "age_upon_intake_(days)     74870 non-null int64\n",
      "age_upon_intake_(years)    74870 non-null float64\n",
      "time_in_shelter_days       74870 non-null float64\n",
      "dtypes: float64(2), int64(1), object(9)\n",
      "memory usage: 6.9+ MB\n"
     ]
    }
   ],
   "source": [
    "df.info()"
   ]
  },
  {
   "cell_type": "code",
   "execution_count": 12,
   "metadata": {},
   "outputs": [
    {
     "data": {
      "text/html": [
       "<div>\n",
       "<style scoped>\n",
       "    .dataframe tbody tr th:only-of-type {\n",
       "        vertical-align: middle;\n",
       "    }\n",
       "\n",
       "    .dataframe tbody tr th {\n",
       "        vertical-align: top;\n",
       "    }\n",
       "\n",
       "    .dataframe thead th {\n",
       "        text-align: right;\n",
       "    }\n",
       "</style>\n",
       "<table border=\"1\" class=\"dataframe\">\n",
       "  <thead>\n",
       "    <tr style=\"text-align: right;\">\n",
       "      <th></th>\n",
       "      <th>animal_id_outcome</th>\n",
       "      <th>age_upon_intake</th>\n",
       "      <th>animal_id_intake</th>\n",
       "      <th>animal_type</th>\n",
       "      <th>breed</th>\n",
       "      <th>color</th>\n",
       "      <th>intake_condition</th>\n",
       "      <th>intake_type</th>\n",
       "      <th>sex_upon_intake</th>\n",
       "      <th>age_upon_intake_(days)</th>\n",
       "      <th>age_upon_intake_(years)</th>\n",
       "      <th>time_in_shelter_days</th>\n",
       "    </tr>\n",
       "  </thead>\n",
       "  <tbody>\n",
       "    <tr>\n",
       "      <td>0</td>\n",
       "      <td>A006100</td>\n",
       "      <td>10 years</td>\n",
       "      <td>A006100</td>\n",
       "      <td>1</td>\n",
       "      <td>0</td>\n",
       "      <td>0</td>\n",
       "      <td>Normal</td>\n",
       "      <td>Stray</td>\n",
       "      <td>0</td>\n",
       "      <td>3650</td>\n",
       "      <td>10.0</td>\n",
       "      <td>0.588194</td>\n",
       "    </tr>\n",
       "    <tr>\n",
       "      <td>1</td>\n",
       "      <td>A006100</td>\n",
       "      <td>7 years</td>\n",
       "      <td>A006100</td>\n",
       "      <td>1</td>\n",
       "      <td>0</td>\n",
       "      <td>0</td>\n",
       "      <td>Normal</td>\n",
       "      <td>Public Assist</td>\n",
       "      <td>0</td>\n",
       "      <td>2555</td>\n",
       "      <td>7.0</td>\n",
       "      <td>1.259722</td>\n",
       "    </tr>\n",
       "    <tr>\n",
       "      <td>2</td>\n",
       "      <td>A006100</td>\n",
       "      <td>6 years</td>\n",
       "      <td>A006100</td>\n",
       "      <td>1</td>\n",
       "      <td>0</td>\n",
       "      <td>0</td>\n",
       "      <td>Normal</td>\n",
       "      <td>Public Assist</td>\n",
       "      <td>0</td>\n",
       "      <td>2190</td>\n",
       "      <td>6.0</td>\n",
       "      <td>1.113889</td>\n",
       "    </tr>\n",
       "    <tr>\n",
       "      <td>3</td>\n",
       "      <td>A047759</td>\n",
       "      <td>10 years</td>\n",
       "      <td>A047759</td>\n",
       "      <td>1</td>\n",
       "      <td>1</td>\n",
       "      <td>0</td>\n",
       "      <td>Normal</td>\n",
       "      <td>Owner Surrender</td>\n",
       "      <td>0</td>\n",
       "      <td>3650</td>\n",
       "      <td>10.0</td>\n",
       "      <td>4.970139</td>\n",
       "    </tr>\n",
       "    <tr>\n",
       "      <td>4</td>\n",
       "      <td>A134067</td>\n",
       "      <td>16 years</td>\n",
       "      <td>A134067</td>\n",
       "      <td>1</td>\n",
       "      <td>1</td>\n",
       "      <td>0</td>\n",
       "      <td>Injured</td>\n",
       "      <td>Public Assist</td>\n",
       "      <td>0</td>\n",
       "      <td>5840</td>\n",
       "      <td>16.0</td>\n",
       "      <td>0.119444</td>\n",
       "    </tr>\n",
       "  </tbody>\n",
       "</table>\n",
       "</div>"
      ],
      "text/plain": [
       "  animal_id_outcome age_upon_intake animal_id_intake  animal_type  breed  \\\n",
       "0           A006100        10 years          A006100            1      0   \n",
       "1           A006100         7 years          A006100            1      0   \n",
       "2           A006100         6 years          A006100            1      0   \n",
       "3           A047759        10 years          A047759            1      1   \n",
       "4           A134067        16 years          A134067            1      1   \n",
       "\n",
       "   color intake_condition      intake_type  sex_upon_intake  \\\n",
       "0      0           Normal            Stray                0   \n",
       "1      0           Normal    Public Assist                0   \n",
       "2      0           Normal    Public Assist                0   \n",
       "3      0           Normal  Owner Surrender                0   \n",
       "4      0          Injured    Public Assist                0   \n",
       "\n",
       "   age_upon_intake_(days)  age_upon_intake_(years)  time_in_shelter_days  \n",
       "0                    3650                     10.0              0.588194  \n",
       "1                    2555                      7.0              1.259722  \n",
       "2                    2190                      6.0              1.113889  \n",
       "3                    3650                     10.0              4.970139  \n",
       "4                    5840                     16.0              0.119444  "
      ]
     },
     "execution_count": 12,
     "metadata": {},
     "output_type": "execute_result"
    }
   ],
   "source": [
    "df.breed = df.breed.apply(breedType)\n",
    "df.color = df.color.apply(colorPurity)\n",
    "#df['age_upon_intake_(years)'] = df['age_upon_intake_(years)'].apply(age_group)\n",
    "df.animal_type = df.animal_type.apply(AnimalType)\n",
    "df.sex_upon_intake = df.sex_upon_intake.apply(Gender)\n",
    "df.head()"
   ]
  },
  {
   "cell_type": "code",
   "execution_count": 13,
   "metadata": {},
   "outputs": [
    {
     "data": {
      "text/html": [
       "<div>\n",
       "<style scoped>\n",
       "    .dataframe tbody tr th:only-of-type {\n",
       "        vertical-align: middle;\n",
       "    }\n",
       "\n",
       "    .dataframe tbody tr th {\n",
       "        vertical-align: top;\n",
       "    }\n",
       "\n",
       "    .dataframe thead th {\n",
       "        text-align: right;\n",
       "    }\n",
       "</style>\n",
       "<table border=\"1\" class=\"dataframe\">\n",
       "  <thead>\n",
       "    <tr style=\"text-align: right;\">\n",
       "      <th></th>\n",
       "      <th>animal_type</th>\n",
       "      <th>breed</th>\n",
       "      <th>color</th>\n",
       "      <th>sex_upon_intake</th>\n",
       "      <th>age_upon_intake_(days)</th>\n",
       "      <th>age_upon_intake_(years)</th>\n",
       "      <th>time_in_shelter_days</th>\n",
       "    </tr>\n",
       "  </thead>\n",
       "  <tbody>\n",
       "    <tr>\n",
       "      <td>count</td>\n",
       "      <td>74870.000000</td>\n",
       "      <td>74870.000000</td>\n",
       "      <td>74870.000000</td>\n",
       "      <td>74870.000000</td>\n",
       "      <td>74870.000000</td>\n",
       "      <td>74870.000000</td>\n",
       "      <td>74870.000000</td>\n",
       "    </tr>\n",
       "    <tr>\n",
       "      <td>mean</td>\n",
       "      <td>0.605717</td>\n",
       "      <td>0.051449</td>\n",
       "      <td>0.439989</td>\n",
       "      <td>0.536330</td>\n",
       "      <td>789.850928</td>\n",
       "      <td>2.163975</td>\n",
       "      <td>17.549818</td>\n",
       "    </tr>\n",
       "    <tr>\n",
       "      <td>std</td>\n",
       "      <td>0.488699</td>\n",
       "      <td>0.220914</td>\n",
       "      <td>0.496389</td>\n",
       "      <td>0.569176</td>\n",
       "      <td>1080.596953</td>\n",
       "      <td>2.960540</td>\n",
       "      <td>42.602655</td>\n",
       "    </tr>\n",
       "    <tr>\n",
       "      <td>min</td>\n",
       "      <td>0.000000</td>\n",
       "      <td>0.000000</td>\n",
       "      <td>0.000000</td>\n",
       "      <td>0.000000</td>\n",
       "      <td>0.000000</td>\n",
       "      <td>0.000000</td>\n",
       "      <td>0.000000</td>\n",
       "    </tr>\n",
       "    <tr>\n",
       "      <td>25%</td>\n",
       "      <td>0.000000</td>\n",
       "      <td>0.000000</td>\n",
       "      <td>0.000000</td>\n",
       "      <td>0.000000</td>\n",
       "      <td>60.000000</td>\n",
       "      <td>0.164384</td>\n",
       "      <td>1.788889</td>\n",
       "    </tr>\n",
       "    <tr>\n",
       "      <td>50%</td>\n",
       "      <td>1.000000</td>\n",
       "      <td>0.000000</td>\n",
       "      <td>0.000000</td>\n",
       "      <td>0.000000</td>\n",
       "      <td>365.000000</td>\n",
       "      <td>1.000000</td>\n",
       "      <td>5.136806</td>\n",
       "    </tr>\n",
       "    <tr>\n",
       "      <td>75%</td>\n",
       "      <td>1.000000</td>\n",
       "      <td>0.000000</td>\n",
       "      <td>1.000000</td>\n",
       "      <td>1.000000</td>\n",
       "      <td>1095.000000</td>\n",
       "      <td>3.000000</td>\n",
       "      <td>14.715451</td>\n",
       "    </tr>\n",
       "    <tr>\n",
       "      <td>max</td>\n",
       "      <td>1.000000</td>\n",
       "      <td>1.000000</td>\n",
       "      <td>1.000000</td>\n",
       "      <td>2.000000</td>\n",
       "      <td>8030.000000</td>\n",
       "      <td>22.000000</td>\n",
       "      <td>1606.194444</td>\n",
       "    </tr>\n",
       "  </tbody>\n",
       "</table>\n",
       "</div>"
      ],
      "text/plain": [
       "        animal_type         breed         color  sex_upon_intake  \\\n",
       "count  74870.000000  74870.000000  74870.000000     74870.000000   \n",
       "mean       0.605717      0.051449      0.439989         0.536330   \n",
       "std        0.488699      0.220914      0.496389         0.569176   \n",
       "min        0.000000      0.000000      0.000000         0.000000   \n",
       "25%        0.000000      0.000000      0.000000         0.000000   \n",
       "50%        1.000000      0.000000      0.000000         0.000000   \n",
       "75%        1.000000      0.000000      1.000000         1.000000   \n",
       "max        1.000000      1.000000      1.000000         2.000000   \n",
       "\n",
       "       age_upon_intake_(days)  age_upon_intake_(years)  time_in_shelter_days  \n",
       "count            74870.000000             74870.000000          74870.000000  \n",
       "mean               789.850928                 2.163975             17.549818  \n",
       "std               1080.596953                 2.960540             42.602655  \n",
       "min                  0.000000                 0.000000              0.000000  \n",
       "25%                 60.000000                 0.164384              1.788889  \n",
       "50%                365.000000                 1.000000              5.136806  \n",
       "75%               1095.000000                 3.000000             14.715451  \n",
       "max               8030.000000                22.000000           1606.194444  "
      ]
     },
     "execution_count": 13,
     "metadata": {},
     "output_type": "execute_result"
    }
   ],
   "source": [
    "df.describe()"
   ]
  },
  {
   "cell_type": "code",
   "execution_count": 14,
   "metadata": {},
   "outputs": [
    {
     "name": "stdout",
     "output_type": "stream",
     "text": [
      "<class 'pandas.core.frame.DataFrame'>\n",
      "Int64Index: 32076 entries, 1215 to 74858\n",
      "Data columns (total 12 columns):\n",
      "animal_id_outcome          32076 non-null object\n",
      "age_upon_intake            32076 non-null object\n",
      "animal_id_intake           32076 non-null object\n",
      "animal_type                32076 non-null int64\n",
      "breed                      32076 non-null int64\n",
      "color                      32076 non-null int64\n",
      "intake_condition           32076 non-null object\n",
      "intake_type                32076 non-null object\n",
      "sex_upon_intake            32076 non-null int64\n",
      "age_upon_intake_(days)     32076 non-null int64\n",
      "age_upon_intake_(years)    32076 non-null float64\n",
      "time_in_shelter_days       32076 non-null float64\n",
      "dtypes: float64(2), int64(5), object(5)\n",
      "memory usage: 3.2+ MB\n"
     ]
    }
   ],
   "source": [
    "df[(df['time_in_shelter_days']<100)&(df['age_upon_intake_(years)']<2.0)&(df['time_in_shelter_days']>2)].info()"
   ]
  },
  {
   "cell_type": "code",
   "execution_count": 15,
   "metadata": {},
   "outputs": [],
   "source": [
    "# def scatterplot(x_data, y_data, x_label=\"\", y_label=\"\", title=\"\", color = 'purple', yscale_log=False):\n",
    "\n",
    "#     # Create the plot object\n",
    "#     _, ax = plt.subplots()\n",
    "\n",
    "#     # Plot the data, set the size (s), color and transparency (alpha)\n",
    "#     # of the points\n",
    "#     ax.scatter(x_data, y_data, s = 10, color = color, alpha = 0.75)\n",
    "\n",
    "#     if yscale_log == True:\n",
    "#         ax.set_yscale('log')\n",
    "\n",
    "#     # Label the axes and provide a title\n",
    "#     ax.set_title(title)\n",
    "#     ax.set_xlabel(x_label)\n",
    "#     ax.set_ylabel(y_label)"
   ]
  },
  {
   "cell_type": "code",
   "execution_count": 16,
   "metadata": {},
   "outputs": [],
   "source": [
    "# df.apply(scatterplot(df['age_upon_intake_(years)'],df['time_in_shelter_days'],'Age upon intake','Time in shelter (days)','t'))"
   ]
  },
  {
   "cell_type": "code",
   "execution_count": 17,
   "metadata": {},
   "outputs": [
    {
     "data": {
      "text/plain": [
       "array(['Stray', 'Public Assist', 'Owner Surrender', 'Euthanasia Request'],\n",
       "      dtype=object)"
      ]
     },
     "execution_count": 17,
     "metadata": {},
     "output_type": "execute_result"
    }
   ],
   "source": [
    "pd.unique(df['intake_type'])"
   ]
  },
  {
   "cell_type": "code",
   "execution_count": 18,
   "metadata": {},
   "outputs": [
    {
     "data": {
      "text/plain": [
       "array(['Normal', 'Injured', 'Aged', 'Sick', 'Other', 'Feral', 'Pregnant',\n",
       "       'Nursing'], dtype=object)"
      ]
     },
     "execution_count": 18,
     "metadata": {},
     "output_type": "execute_result"
    }
   ],
   "source": [
    "pd.unique(df['intake_condition'])"
   ]
  },
  {
   "cell_type": "code",
   "execution_count": 19,
   "metadata": {},
   "outputs": [
    {
     "data": {
      "text/html": [
       "<div>\n",
       "<style scoped>\n",
       "    .dataframe tbody tr th:only-of-type {\n",
       "        vertical-align: middle;\n",
       "    }\n",
       "\n",
       "    .dataframe tbody tr th {\n",
       "        vertical-align: top;\n",
       "    }\n",
       "\n",
       "    .dataframe thead th {\n",
       "        text-align: right;\n",
       "    }\n",
       "</style>\n",
       "<table border=\"1\" class=\"dataframe\">\n",
       "  <thead>\n",
       "    <tr style=\"text-align: right;\">\n",
       "      <th></th>\n",
       "      <th>animal_id_outcome</th>\n",
       "      <th>age_upon_intake</th>\n",
       "      <th>animal_id_intake</th>\n",
       "      <th>animal_type</th>\n",
       "      <th>breed</th>\n",
       "      <th>color</th>\n",
       "      <th>intake_condition</th>\n",
       "      <th>intake_type</th>\n",
       "      <th>sex_upon_intake</th>\n",
       "      <th>age_upon_intake_(days)</th>\n",
       "      <th>age_upon_intake_(years)</th>\n",
       "      <th>time_in_shelter_days</th>\n",
       "    </tr>\n",
       "  </thead>\n",
       "  <tbody>\n",
       "  </tbody>\n",
       "</table>\n",
       "</div>"
      ],
      "text/plain": [
       "Empty DataFrame\n",
       "Columns: [animal_id_outcome, age_upon_intake, animal_id_intake, animal_type, breed, color, intake_condition, intake_type, sex_upon_intake, age_upon_intake_(days), age_upon_intake_(years), time_in_shelter_days]\n",
       "Index: []"
      ]
     },
     "execution_count": 19,
     "metadata": {},
     "output_type": "execute_result"
    }
   ],
   "source": [
    "#checking the validity of the data\n",
    "df[df['animal_id_outcome']!=df['animal_id_intake']]"
   ]
  },
  {
   "cell_type": "code",
   "execution_count": 20,
   "metadata": {},
   "outputs": [],
   "source": [
    "\n",
    "df.drop(columns = ['animal_id_outcome','age_upon_intake_(days)','age_upon_intake'],inplace=True)\n",
    "#df.drop(columns = ['animal_id_outcome','age_upon_intake_(days)','age_upon_intake','intake_condition'],inplace=True)"
   ]
  },
  {
   "cell_type": "code",
   "execution_count": 21,
   "metadata": {},
   "outputs": [
    {
     "data": {
      "image/png": "[encoded data removed]",
      "text/plain": [
       "<Figure size 432x288 with 1 Axes>"
      ]
     },
     "metadata": {
      "needs_background": "light"
     },
     "output_type": "display_data"
    }
   ],
   "source": [
    "plt.scatter(x=df['intake_type'],y=df['time_in_shelter_days'],c='r',marker='s',label='animal_type')\n",
    "# plt.scatter(x=df['age_upon_intake_(years)'],y=df['time_in_shelter_days'],c='b',marker='o',label='age_upon_intake')\n",
    "# plt.scatter(x=df['intake_condition'],y=df['time_in_shelter_days'],c='k',marker='*',label='intake_condition')\n",
    "\n",
    "plt.legend(numpoints=1,loc=5)\n",
    "plt.xlabel('intake_type')\n",
    "plt.ylabel('time_in_shelter_days')\n",
    "plt.show()"
   ]
  },
  {
   "cell_type": "code",
   "execution_count": 22,
   "metadata": {},
   "outputs": [
    {
     "data": {
      "image/png": "[encoded data removed]",
      "text/plain": [
       "<Figure size 432x288 with 1 Axes>"
      ]
     },
     "metadata": {
      "needs_background": "light"
     },
     "output_type": "display_data"
    }
   ],
   "source": [
    "plt.scatter(x=df['age_upon_intake_(years)'],y=df['time_in_shelter_days'],c='b',marker='o',label='age_upon_intake')\n",
    "\n",
    "plt.legend(numpoints=1,loc=5)\n",
    "plt.xlabel('age upon intake')\n",
    "plt.ylabel('time_in_shelter_days')\n",
    "plt.show()"
   ]
  },
  {
   "cell_type": "code",
   "execution_count": 23,
   "metadata": {},
   "outputs": [
    {
     "data": {
      "image/png": "[encoded data removed]",
      "text/plain": [
       "<Figure size 432x288 with 1 Axes>"
      ]
     },
     "metadata": {
      "needs_background": "light"
     },
     "output_type": "display_data"
    }
   ],
   "source": [
    "plt.scatter(x=df['intake_condition'],y=df['time_in_shelter_days'],c='k',marker='*',label='intake_condition')\n",
    "\n",
    "plt.legend(numpoints=1,loc=5)\n",
    "plt.xlabel('intake_condition')\n",
    "plt.ylabel('time_in_shelter_days')\n",
    "plt.show()"
   ]
  },
  {
   "cell_type": "code",
   "execution_count": 24,
   "metadata": {},
   "outputs": [
    {
     "data": {
      "text/html": [
       "<div>\n",
       "<style scoped>\n",
       "    .dataframe tbody tr th:only-of-type {\n",
       "        vertical-align: middle;\n",
       "    }\n",
       "\n",
       "    .dataframe tbody tr th {\n",
       "        vertical-align: top;\n",
       "    }\n",
       "\n",
       "    .dataframe thead th {\n",
       "        text-align: right;\n",
       "    }\n",
       "</style>\n",
       "<table border=\"1\" class=\"dataframe\">\n",
       "  <thead>\n",
       "    <tr style=\"text-align: right;\">\n",
       "      <th></th>\n",
       "      <th>animal_id_intake</th>\n",
       "      <th>animal_type</th>\n",
       "      <th>breed</th>\n",
       "      <th>color</th>\n",
       "      <th>intake_condition</th>\n",
       "      <th>sex_upon_intake</th>\n",
       "      <th>age_upon_intake_(years)</th>\n",
       "      <th>time_in_shelter_days</th>\n",
       "      <th>intake_type_Euthanasia Request</th>\n",
       "      <th>intake_type_Owner Surrender</th>\n",
       "      <th>intake_type_Public Assist</th>\n",
       "      <th>intake_type_Stray</th>\n",
       "    </tr>\n",
       "  </thead>\n",
       "  <tbody>\n",
       "    <tr>\n",
       "      <td>0</td>\n",
       "      <td>A006100</td>\n",
       "      <td>1</td>\n",
       "      <td>0</td>\n",
       "      <td>0</td>\n",
       "      <td>Normal</td>\n",
       "      <td>0</td>\n",
       "      <td>10.000000</td>\n",
       "      <td>0.588194</td>\n",
       "      <td>0</td>\n",
       "      <td>0</td>\n",
       "      <td>0</td>\n",
       "      <td>1</td>\n",
       "    </tr>\n",
       "    <tr>\n",
       "      <td>1</td>\n",
       "      <td>A006100</td>\n",
       "      <td>1</td>\n",
       "      <td>0</td>\n",
       "      <td>0</td>\n",
       "      <td>Normal</td>\n",
       "      <td>0</td>\n",
       "      <td>7.000000</td>\n",
       "      <td>1.259722</td>\n",
       "      <td>0</td>\n",
       "      <td>0</td>\n",
       "      <td>1</td>\n",
       "      <td>0</td>\n",
       "    </tr>\n",
       "    <tr>\n",
       "      <td>2</td>\n",
       "      <td>A006100</td>\n",
       "      <td>1</td>\n",
       "      <td>0</td>\n",
       "      <td>0</td>\n",
       "      <td>Normal</td>\n",
       "      <td>0</td>\n",
       "      <td>6.000000</td>\n",
       "      <td>1.113889</td>\n",
       "      <td>0</td>\n",
       "      <td>0</td>\n",
       "      <td>1</td>\n",
       "      <td>0</td>\n",
       "    </tr>\n",
       "    <tr>\n",
       "      <td>3</td>\n",
       "      <td>A047759</td>\n",
       "      <td>1</td>\n",
       "      <td>1</td>\n",
       "      <td>0</td>\n",
       "      <td>Normal</td>\n",
       "      <td>0</td>\n",
       "      <td>10.000000</td>\n",
       "      <td>4.970139</td>\n",
       "      <td>0</td>\n",
       "      <td>1</td>\n",
       "      <td>0</td>\n",
       "      <td>0</td>\n",
       "    </tr>\n",
       "    <tr>\n",
       "      <td>4</td>\n",
       "      <td>A134067</td>\n",
       "      <td>1</td>\n",
       "      <td>1</td>\n",
       "      <td>0</td>\n",
       "      <td>Injured</td>\n",
       "      <td>0</td>\n",
       "      <td>16.000000</td>\n",
       "      <td>0.119444</td>\n",
       "      <td>0</td>\n",
       "      <td>0</td>\n",
       "      <td>1</td>\n",
       "      <td>0</td>\n",
       "    </tr>\n",
       "    <tr>\n",
       "      <td>...</td>\n",
       "      <td>...</td>\n",
       "      <td>...</td>\n",
       "      <td>...</td>\n",
       "      <td>...</td>\n",
       "      <td>...</td>\n",
       "      <td>...</td>\n",
       "      <td>...</td>\n",
       "      <td>...</td>\n",
       "      <td>...</td>\n",
       "      <td>...</td>\n",
       "      <td>...</td>\n",
       "      <td>...</td>\n",
       "    </tr>\n",
       "    <tr>\n",
       "      <td>74865</td>\n",
       "      <td>A769058</td>\n",
       "      <td>0</td>\n",
       "      <td>0</td>\n",
       "      <td>1</td>\n",
       "      <td>Normal</td>\n",
       "      <td>2</td>\n",
       "      <td>0.038356</td>\n",
       "      <td>0.076389</td>\n",
       "      <td>0</td>\n",
       "      <td>0</td>\n",
       "      <td>0</td>\n",
       "      <td>1</td>\n",
       "    </tr>\n",
       "    <tr>\n",
       "      <td>74866</td>\n",
       "      <td>A769059</td>\n",
       "      <td>0</td>\n",
       "      <td>0</td>\n",
       "      <td>1</td>\n",
       "      <td>Normal</td>\n",
       "      <td>2</td>\n",
       "      <td>0.038356</td>\n",
       "      <td>0.708333</td>\n",
       "      <td>0</td>\n",
       "      <td>0</td>\n",
       "      <td>0</td>\n",
       "      <td>1</td>\n",
       "    </tr>\n",
       "    <tr>\n",
       "      <td>74867</td>\n",
       "      <td>A769060</td>\n",
       "      <td>0</td>\n",
       "      <td>0</td>\n",
       "      <td>1</td>\n",
       "      <td>Normal</td>\n",
       "      <td>2</td>\n",
       "      <td>0.038356</td>\n",
       "      <td>0.077083</td>\n",
       "      <td>0</td>\n",
       "      <td>0</td>\n",
       "      <td>0</td>\n",
       "      <td>1</td>\n",
       "    </tr>\n",
       "    <tr>\n",
       "      <td>74868</td>\n",
       "      <td>A769066</td>\n",
       "      <td>1</td>\n",
       "      <td>0</td>\n",
       "      <td>0</td>\n",
       "      <td>Normal</td>\n",
       "      <td>0</td>\n",
       "      <td>0.410959</td>\n",
       "      <td>1.762500</td>\n",
       "      <td>0</td>\n",
       "      <td>0</td>\n",
       "      <td>0</td>\n",
       "      <td>1</td>\n",
       "    </tr>\n",
       "    <tr>\n",
       "      <td>74869</td>\n",
       "      <td>A769067</td>\n",
       "      <td>1</td>\n",
       "      <td>0</td>\n",
       "      <td>1</td>\n",
       "      <td>Aged</td>\n",
       "      <td>1</td>\n",
       "      <td>10.000000</td>\n",
       "      <td>0.813889</td>\n",
       "      <td>0</td>\n",
       "      <td>0</td>\n",
       "      <td>0</td>\n",
       "      <td>1</td>\n",
       "    </tr>\n",
       "  </tbody>\n",
       "</table>\n",
       "<p>74870 rows × 12 columns</p>\n",
       "</div>"
      ],
      "text/plain": [
       "      animal_id_intake  animal_type  breed  color intake_condition  \\\n",
       "0              A006100            1      0      0           Normal   \n",
       "1              A006100            1      0      0           Normal   \n",
       "2              A006100            1      0      0           Normal   \n",
       "3              A047759            1      1      0           Normal   \n",
       "4              A134067            1      1      0          Injured   \n",
       "...                ...          ...    ...    ...              ...   \n",
       "74865          A769058            0      0      1           Normal   \n",
       "74866          A769059            0      0      1           Normal   \n",
       "74867          A769060            0      0      1           Normal   \n",
       "74868          A769066            1      0      0           Normal   \n",
       "74869          A769067            1      0      1             Aged   \n",
       "\n",
       "       sex_upon_intake  age_upon_intake_(years)  time_in_shelter_days  \\\n",
       "0                    0                10.000000              0.588194   \n",
       "1                    0                 7.000000              1.259722   \n",
       "2                    0                 6.000000              1.113889   \n",
       "3                    0                10.000000              4.970139   \n",
       "4                    0                16.000000              0.119444   \n",
       "...                ...                      ...                   ...   \n",
       "74865                2                 0.038356              0.076389   \n",
       "74866                2                 0.038356              0.708333   \n",
       "74867                2                 0.038356              0.077083   \n",
       "74868                0                 0.410959              1.762500   \n",
       "74869                1                10.000000              0.813889   \n",
       "\n",
       "       intake_type_Euthanasia Request  intake_type_Owner Surrender  \\\n",
       "0                                   0                            0   \n",
       "1                                   0                            0   \n",
       "2                                   0                            0   \n",
       "3                                   0                            1   \n",
       "4                                   0                            0   \n",
       "...                               ...                          ...   \n",
       "74865                               0                            0   \n",
       "74866                               0                            0   \n",
       "74867                               0                            0   \n",
       "74868                               0                            0   \n",
       "74869                               0                            0   \n",
       "\n",
       "       intake_type_Public Assist  intake_type_Stray  \n",
       "0                              0                  1  \n",
       "1                              1                  0  \n",
       "2                              1                  0  \n",
       "3                              0                  0  \n",
       "4                              1                  0  \n",
       "...                          ...                ...  \n",
       "74865                          0                  1  \n",
       "74866                          0                  1  \n",
       "74867                          0                  1  \n",
       "74868                          0                  1  \n",
       "74869                          0                  1  \n",
       "\n",
       "[74870 rows x 12 columns]"
      ]
     },
     "execution_count": 24,
     "metadata": {},
     "output_type": "execute_result"
    }
   ],
   "source": [
    "df = pd.get_dummies(df, columns=['intake_type'])\n",
    "df"
   ]
  },
  {
   "cell_type": "markdown",
   "metadata": {},
   "source": [
    "We decided to drop the \"intake condition\" column because we don't think it would benefit the model.\n",
    "if the accuracy won't be high, we will try it again by including this column"
   ]
  },
  {
   "cell_type": "code",
   "execution_count": 25,
   "metadata": {},
   "outputs": [],
   "source": [
    "df.drop(columns=['intake_condition'],inplace = True)\n",
    "#df.drop(columns=['intake_type'],inplace = True)"
   ]
  },
  {
   "cell_type": "code",
   "execution_count": 26,
   "metadata": {},
   "outputs": [
    {
     "data": {
      "text/html": [
       "<div>\n",
       "<style scoped>\n",
       "    .dataframe tbody tr th:only-of-type {\n",
       "        vertical-align: middle;\n",
       "    }\n",
       "\n",
       "    .dataframe tbody tr th {\n",
       "        vertical-align: top;\n",
       "    }\n",
       "\n",
       "    .dataframe thead th {\n",
       "        text-align: right;\n",
       "    }\n",
       "</style>\n",
       "<table border=\"1\" class=\"dataframe\">\n",
       "  <thead>\n",
       "    <tr style=\"text-align: right;\">\n",
       "      <th></th>\n",
       "      <th>animal_type</th>\n",
       "      <th>breed</th>\n",
       "      <th>color</th>\n",
       "      <th>sex_upon_intake</th>\n",
       "      <th>age_upon_intake_(years)</th>\n",
       "      <th>time_in_shelter_days</th>\n",
       "      <th>intake_type_Euthanasia Request</th>\n",
       "      <th>intake_type_Owner Surrender</th>\n",
       "      <th>intake_type_Public Assist</th>\n",
       "      <th>intake_type_Stray</th>\n",
       "    </tr>\n",
       "  </thead>\n",
       "  <tbody>\n",
       "    <tr>\n",
       "      <td>0</td>\n",
       "      <td>1</td>\n",
       "      <td>0</td>\n",
       "      <td>0</td>\n",
       "      <td>0</td>\n",
       "      <td>10.000000</td>\n",
       "      <td>0.588194</td>\n",
       "      <td>0</td>\n",
       "      <td>0</td>\n",
       "      <td>0</td>\n",
       "      <td>1</td>\n",
       "    </tr>\n",
       "    <tr>\n",
       "      <td>1</td>\n",
       "      <td>1</td>\n",
       "      <td>0</td>\n",
       "      <td>0</td>\n",
       "      <td>0</td>\n",
       "      <td>7.000000</td>\n",
       "      <td>1.259722</td>\n",
       "      <td>0</td>\n",
       "      <td>0</td>\n",
       "      <td>1</td>\n",
       "      <td>0</td>\n",
       "    </tr>\n",
       "    <tr>\n",
       "      <td>2</td>\n",
       "      <td>1</td>\n",
       "      <td>0</td>\n",
       "      <td>0</td>\n",
       "      <td>0</td>\n",
       "      <td>6.000000</td>\n",
       "      <td>1.113889</td>\n",
       "      <td>0</td>\n",
       "      <td>0</td>\n",
       "      <td>1</td>\n",
       "      <td>0</td>\n",
       "    </tr>\n",
       "    <tr>\n",
       "      <td>3</td>\n",
       "      <td>1</td>\n",
       "      <td>1</td>\n",
       "      <td>0</td>\n",
       "      <td>0</td>\n",
       "      <td>10.000000</td>\n",
       "      <td>4.970139</td>\n",
       "      <td>0</td>\n",
       "      <td>1</td>\n",
       "      <td>0</td>\n",
       "      <td>0</td>\n",
       "    </tr>\n",
       "    <tr>\n",
       "      <td>4</td>\n",
       "      <td>1</td>\n",
       "      <td>1</td>\n",
       "      <td>0</td>\n",
       "      <td>0</td>\n",
       "      <td>16.000000</td>\n",
       "      <td>0.119444</td>\n",
       "      <td>0</td>\n",
       "      <td>0</td>\n",
       "      <td>1</td>\n",
       "      <td>0</td>\n",
       "    </tr>\n",
       "    <tr>\n",
       "      <td>...</td>\n",
       "      <td>...</td>\n",
       "      <td>...</td>\n",
       "      <td>...</td>\n",
       "      <td>...</td>\n",
       "      <td>...</td>\n",
       "      <td>...</td>\n",
       "      <td>...</td>\n",
       "      <td>...</td>\n",
       "      <td>...</td>\n",
       "      <td>...</td>\n",
       "    </tr>\n",
       "    <tr>\n",
       "      <td>74865</td>\n",
       "      <td>0</td>\n",
       "      <td>0</td>\n",
       "      <td>1</td>\n",
       "      <td>2</td>\n",
       "      <td>0.038356</td>\n",
       "      <td>0.076389</td>\n",
       "      <td>0</td>\n",
       "      <td>0</td>\n",
       "      <td>0</td>\n",
       "      <td>1</td>\n",
       "    </tr>\n",
       "    <tr>\n",
       "      <td>74866</td>\n",
       "      <td>0</td>\n",
       "      <td>0</td>\n",
       "      <td>1</td>\n",
       "      <td>2</td>\n",
       "      <td>0.038356</td>\n",
       "      <td>0.708333</td>\n",
       "      <td>0</td>\n",
       "      <td>0</td>\n",
       "      <td>0</td>\n",
       "      <td>1</td>\n",
       "    </tr>\n",
       "    <tr>\n",
       "      <td>74867</td>\n",
       "      <td>0</td>\n",
       "      <td>0</td>\n",
       "      <td>1</td>\n",
       "      <td>2</td>\n",
       "      <td>0.038356</td>\n",
       "      <td>0.077083</td>\n",
       "      <td>0</td>\n",
       "      <td>0</td>\n",
       "      <td>0</td>\n",
       "      <td>1</td>\n",
       "    </tr>\n",
       "    <tr>\n",
       "      <td>74868</td>\n",
       "      <td>1</td>\n",
       "      <td>0</td>\n",
       "      <td>0</td>\n",
       "      <td>0</td>\n",
       "      <td>0.410959</td>\n",
       "      <td>1.762500</td>\n",
       "      <td>0</td>\n",
       "      <td>0</td>\n",
       "      <td>0</td>\n",
       "      <td>1</td>\n",
       "    </tr>\n",
       "    <tr>\n",
       "      <td>74869</td>\n",
       "      <td>1</td>\n",
       "      <td>0</td>\n",
       "      <td>1</td>\n",
       "      <td>1</td>\n",
       "      <td>10.000000</td>\n",
       "      <td>0.813889</td>\n",
       "      <td>0</td>\n",
       "      <td>0</td>\n",
       "      <td>0</td>\n",
       "      <td>1</td>\n",
       "    </tr>\n",
       "  </tbody>\n",
       "</table>\n",
       "<p>74870 rows × 10 columns</p>\n",
       "</div>"
      ],
      "text/plain": [
       "       animal_type  breed  color  sex_upon_intake  age_upon_intake_(years)  \\\n",
       "0                1      0      0                0                10.000000   \n",
       "1                1      0      0                0                 7.000000   \n",
       "2                1      0      0                0                 6.000000   \n",
       "3                1      1      0                0                10.000000   \n",
       "4                1      1      0                0                16.000000   \n",
       "...            ...    ...    ...              ...                      ...   \n",
       "74865            0      0      1                2                 0.038356   \n",
       "74866            0      0      1                2                 0.038356   \n",
       "74867            0      0      1                2                 0.038356   \n",
       "74868            1      0      0                0                 0.410959   \n",
       "74869            1      0      1                1                10.000000   \n",
       "\n",
       "       time_in_shelter_days  intake_type_Euthanasia Request  \\\n",
       "0                  0.588194                               0   \n",
       "1                  1.259722                               0   \n",
       "2                  1.113889                               0   \n",
       "3                  4.970139                               0   \n",
       "4                  0.119444                               0   \n",
       "...                     ...                             ...   \n",
       "74865              0.076389                               0   \n",
       "74866              0.708333                               0   \n",
       "74867              0.077083                               0   \n",
       "74868              1.762500                               0   \n",
       "74869              0.813889                               0   \n",
       "\n",
       "       intake_type_Owner Surrender  intake_type_Public Assist  \\\n",
       "0                                0                          0   \n",
       "1                                0                          1   \n",
       "2                                0                          1   \n",
       "3                                1                          0   \n",
       "4                                0                          1   \n",
       "...                            ...                        ...   \n",
       "74865                            0                          0   \n",
       "74866                            0                          0   \n",
       "74867                            0                          0   \n",
       "74868                            0                          0   \n",
       "74869                            0                          0   \n",
       "\n",
       "       intake_type_Stray  \n",
       "0                      1  \n",
       "1                      0  \n",
       "2                      0  \n",
       "3                      0  \n",
       "4                      0  \n",
       "...                  ...  \n",
       "74865                  1  \n",
       "74866                  1  \n",
       "74867                  1  \n",
       "74868                  1  \n",
       "74869                  1  \n",
       "\n",
       "[74870 rows x 10 columns]"
      ]
     },
     "execution_count": 26,
     "metadata": {},
     "output_type": "execute_result"
    }
   ],
   "source": [
    "df_ID = df['animal_id_intake']\n",
    "df.drop(columns=['animal_id_intake'],inplace = True)\n",
    "TRAINING_FEATURES = df[df.columns.difference(['time_in_shelter_days'])]\n",
    "\n",
    "TARGET_FEATURE    = 'time_in_shelter_days'\n",
    "\n",
    "X = TRAINING_FEATURES\n",
    "y = df[TARGET_FEATURE]\n",
    "# X.info()\n",
    "df"
   ]
  },
  {
   "cell_type": "code",
   "execution_count": 27,
   "metadata": {},
   "outputs": [
    {
     "name": "stdout",
     "output_type": "stream",
     "text": [
      "Initial amount of samples: #(74870, 9)\n",
      "Number of training samples: #(59896, 9)\n",
      "Number of test samples: #(14974, 9)\n",
      "\n",
      "Target distribution in original dataset:\n",
      "0.085417     54\n",
      "0.054861     54\n",
      "0.068750     54\n",
      "0.063889     53\n",
      "0.079861     52\n",
      "             ..\n",
      "43.061806     1\n",
      "62.021528     1\n",
      "16.349306     1\n",
      "28.275694     1\n",
      "16.265972     1\n",
      "Name: time_in_shelter_days, Length: 28877, dtype: int64\n",
      "\n",
      "Target distribution in the training set:\n",
      "0.068750     45\n",
      "0.079861     45\n",
      "0.054167     44\n",
      "0.054861     43\n",
      "0.070833     43\n",
      "             ..\n",
      "7.236111      1\n",
      "96.925694     1\n",
      "92.138194     1\n",
      "59.157639     1\n",
      "10.267361     1\n",
      "Name: time_in_shelter_days, Length: 25207, dtype: int64\n",
      "\n",
      "Target distribution in the test set:\n",
      "0.044444     15\n",
      "0.063889     15\n",
      "0.034028     15\n",
      "0.043056     14\n",
      "0.042361     13\n",
      "             ..\n",
      "14.027778     1\n",
      "3.072917      1\n",
      "0.313194      1\n",
      "15.865972     1\n",
      "13.008333     1\n",
      "Name: time_in_shelter_days, Length: 9949, dtype: int64\n"
     ]
    }
   ],
   "source": [
    "X_train, X_test, y_train, y_test = train_test_split(X, y, test_size=0.2, random_state=42)\n",
    "\n",
    "print(\"Initial amount of samples: #{}\".format(X.shape))\n",
    "print(\"Number of training samples: #{}\".format(X_train.shape))\n",
    "print(\"Number of test samples: #{}\".format(X_test.shape))\n",
    "\n",
    "print(\"\\nTarget distribution in original dataset:\\n{}\".format(y.value_counts()))\n",
    "print(\"\\nTarget distribution in the training set:\\n{}\\n\".format(y_train.value_counts()))\n",
    "print(\"Target distribution in the test set:\\n{}\".format(y_test.value_counts()))"
   ]
  },
  {
   "cell_type": "code",
   "execution_count": 28,
   "metadata": {},
   "outputs": [],
   "source": [
    "model = linear_model.LinearRegression()"
   ]
  },
  {
   "cell_type": "code",
   "execution_count": 29,
   "metadata": {},
   "outputs": [
    {
     "data": {
      "text/plain": [
       "LinearRegression(copy_X=True, fit_intercept=True, n_jobs=None, normalize=False)"
      ]
     },
     "execution_count": 29,
     "metadata": {},
     "output_type": "execute_result"
    }
   ],
   "source": [
    "model.fit(X_train,y_train)"
   ]
  },
  {
   "cell_type": "code",
   "execution_count": 30,
   "metadata": {},
   "outputs": [],
   "source": [
    "y_pred = model.predict(X_test)"
   ]
  },
  {
   "cell_type": "code",
   "execution_count": 31,
   "metadata": {},
   "outputs": [
    {
     "name": "stdout",
     "output_type": "stream",
     "text": [
      "Coefficients: [  0.58984801  -5.72888672  -3.5213699   -2.57923031 -11.51727118\n",
      "   7.46765123   2.11671228   1.93290767  -2.04109031]\n",
      "Intercept: 19.183744938226955\n",
      "Mean squared error (MSE): 1787.83\n",
      "Coefficient of determination (R^2): 0.01\n"
     ]
    }
   ],
   "source": [
    "print('Coefficients:', model.coef_)\n",
    "print('Intercept:', model.intercept_)\n",
    "print('Mean squared error (MSE): %.2f'\n",
    "      % mean_squared_error(y_test, y_pred))\n",
    "print('Coefficient of determination (R^2): %.2f'\n",
    "      % r2_score(y_test, y_pred))"
   ]
  },
  {
   "cell_type": "code",
   "execution_count": 32,
   "metadata": {},
   "outputs": [
    {
     "data": {
      "text/plain": [
       "0.009236976425076038"
      ]
     },
     "execution_count": 32,
     "metadata": {},
     "output_type": "execute_result"
    }
   ],
   "source": [
    "r2_score(y_test, y_pred)"
   ]
  },
  {
   "cell_type": "code",
   "execution_count": 33,
   "metadata": {},
   "outputs": [],
   "source": [
    "from sklearn.preprocessing import StandardScaler\n",
    "\n",
    "scaler = StandardScaler()\n",
    "scaler.fit(X_train)\n",
    "\n",
    "X_trained_scaled = scaler.transform(X_train)\n",
    "X_test_scaled = scaler.transform(X_test)"
   ]
  },
  {
   "cell_type": "code",
   "execution_count": 34,
   "metadata": {},
   "outputs": [
    {
     "data": {
      "text/plain": [
       "array([2.16223577, 0.60620075, 0.0513056 , 0.43894417, 0.00292173,\n",
       "       0.1952885 , 0.06437826, 0.73741151, 0.53531121])"
      ]
     },
     "execution_count": 34,
     "metadata": {},
     "output_type": "execute_result"
    }
   ],
   "source": [
    "scaler.mean_"
   ]
  },
  {
   "cell_type": "code",
   "execution_count": 35,
   "metadata": {},
   "outputs": [
    {
     "data": {
      "text/plain": [
       "array([2.95998144, 0.48859124, 0.22062033, 0.49625818, 0.05397402,\n",
       "       0.39642263, 0.24542554, 0.44004065, 0.56945943])"
      ]
     },
     "execution_count": 35,
     "metadata": {},
     "output_type": "execute_result"
    }
   ],
   "source": [
    "scaler.scale_"
   ]
  },
  {
   "cell_type": "code",
   "execution_count": 36,
   "metadata": {},
   "outputs": [],
   "source": [
    "X_trained_scaled = pd.DataFrame(X_trained_scaled, columns = X_train.columns)\n",
    "X_test_scaled = pd.DataFrame(X_test_scaled, columns= X_test.columns)"
   ]
  },
  {
   "cell_type": "code",
   "execution_count": 37,
   "metadata": {},
   "outputs": [
    {
     "data": {
      "text/html": [
       "<div>\n",
       "<style scoped>\n",
       "    .dataframe tbody tr th:only-of-type {\n",
       "        vertical-align: middle;\n",
       "    }\n",
       "\n",
       "    .dataframe tbody tr th {\n",
       "        vertical-align: top;\n",
       "    }\n",
       "\n",
       "    .dataframe thead th {\n",
       "        text-align: right;\n",
       "    }\n",
       "</style>\n",
       "<table border=\"1\" class=\"dataframe\">\n",
       "  <thead>\n",
       "    <tr style=\"text-align: right;\">\n",
       "      <th></th>\n",
       "      <th>age_upon_intake_(years)</th>\n",
       "      <th>animal_type</th>\n",
       "      <th>breed</th>\n",
       "      <th>color</th>\n",
       "      <th>intake_type_Euthanasia Request</th>\n",
       "      <th>intake_type_Owner Surrender</th>\n",
       "      <th>intake_type_Public Assist</th>\n",
       "      <th>intake_type_Stray</th>\n",
       "      <th>sex_upon_intake</th>\n",
       "    </tr>\n",
       "  </thead>\n",
       "  <tbody>\n",
       "    <tr>\n",
       "      <td>count</td>\n",
       "      <td>59896.00</td>\n",
       "      <td>59896.00</td>\n",
       "      <td>59896.00</td>\n",
       "      <td>59896.00</td>\n",
       "      <td>59896.00</td>\n",
       "      <td>59896.00</td>\n",
       "      <td>59896.00</td>\n",
       "      <td>59896.00</td>\n",
       "      <td>59896.00</td>\n",
       "    </tr>\n",
       "    <tr>\n",
       "      <td>mean</td>\n",
       "      <td>-0.00</td>\n",
       "      <td>0.00</td>\n",
       "      <td>-0.00</td>\n",
       "      <td>0.00</td>\n",
       "      <td>-0.00</td>\n",
       "      <td>-0.00</td>\n",
       "      <td>-0.00</td>\n",
       "      <td>0.00</td>\n",
       "      <td>0.00</td>\n",
       "    </tr>\n",
       "    <tr>\n",
       "      <td>std</td>\n",
       "      <td>1.00</td>\n",
       "      <td>1.00</td>\n",
       "      <td>1.00</td>\n",
       "      <td>1.00</td>\n",
       "      <td>1.00</td>\n",
       "      <td>1.00</td>\n",
       "      <td>1.00</td>\n",
       "      <td>1.00</td>\n",
       "      <td>1.00</td>\n",
       "    </tr>\n",
       "    <tr>\n",
       "      <td>min</td>\n",
       "      <td>-0.73</td>\n",
       "      <td>-1.24</td>\n",
       "      <td>-0.23</td>\n",
       "      <td>-0.88</td>\n",
       "      <td>-0.05</td>\n",
       "      <td>-0.49</td>\n",
       "      <td>-0.26</td>\n",
       "      <td>-1.68</td>\n",
       "      <td>-0.94</td>\n",
       "    </tr>\n",
       "    <tr>\n",
       "      <td>25%</td>\n",
       "      <td>-0.67</td>\n",
       "      <td>-1.24</td>\n",
       "      <td>-0.23</td>\n",
       "      <td>-0.88</td>\n",
       "      <td>-0.05</td>\n",
       "      <td>-0.49</td>\n",
       "      <td>-0.26</td>\n",
       "      <td>-1.68</td>\n",
       "      <td>-0.94</td>\n",
       "    </tr>\n",
       "    <tr>\n",
       "      <td>50%</td>\n",
       "      <td>-0.39</td>\n",
       "      <td>0.81</td>\n",
       "      <td>-0.23</td>\n",
       "      <td>-0.88</td>\n",
       "      <td>-0.05</td>\n",
       "      <td>-0.49</td>\n",
       "      <td>-0.26</td>\n",
       "      <td>0.60</td>\n",
       "      <td>-0.94</td>\n",
       "    </tr>\n",
       "    <tr>\n",
       "      <td>75%</td>\n",
       "      <td>0.28</td>\n",
       "      <td>0.81</td>\n",
       "      <td>-0.23</td>\n",
       "      <td>1.13</td>\n",
       "      <td>-0.05</td>\n",
       "      <td>-0.49</td>\n",
       "      <td>-0.26</td>\n",
       "      <td>0.60</td>\n",
       "      <td>0.82</td>\n",
       "    </tr>\n",
       "    <tr>\n",
       "      <td>max</td>\n",
       "      <td>6.70</td>\n",
       "      <td>0.81</td>\n",
       "      <td>4.30</td>\n",
       "      <td>1.13</td>\n",
       "      <td>18.47</td>\n",
       "      <td>2.03</td>\n",
       "      <td>3.81</td>\n",
       "      <td>0.60</td>\n",
       "      <td>2.57</td>\n",
       "    </tr>\n",
       "  </tbody>\n",
       "</table>\n",
       "</div>"
      ],
      "text/plain": [
       "       age_upon_intake_(years)  animal_type     breed     color  \\\n",
       "count                 59896.00     59896.00  59896.00  59896.00   \n",
       "mean                     -0.00         0.00     -0.00      0.00   \n",
       "std                       1.00         1.00      1.00      1.00   \n",
       "min                      -0.73        -1.24     -0.23     -0.88   \n",
       "25%                      -0.67        -1.24     -0.23     -0.88   \n",
       "50%                      -0.39         0.81     -0.23     -0.88   \n",
       "75%                       0.28         0.81     -0.23      1.13   \n",
       "max                       6.70         0.81      4.30      1.13   \n",
       "\n",
       "       intake_type_Euthanasia Request  intake_type_Owner Surrender  \\\n",
       "count                        59896.00                     59896.00   \n",
       "mean                            -0.00                        -0.00   \n",
       "std                              1.00                         1.00   \n",
       "min                             -0.05                        -0.49   \n",
       "25%                             -0.05                        -0.49   \n",
       "50%                             -0.05                        -0.49   \n",
       "75%                             -0.05                        -0.49   \n",
       "max                             18.47                         2.03   \n",
       "\n",
       "       intake_type_Public Assist  intake_type_Stray  sex_upon_intake  \n",
       "count                   59896.00           59896.00         59896.00  \n",
       "mean                       -0.00               0.00             0.00  \n",
       "std                         1.00               1.00             1.00  \n",
       "min                        -0.26              -1.68            -0.94  \n",
       "25%                        -0.26              -1.68            -0.94  \n",
       "50%                        -0.26               0.60            -0.94  \n",
       "75%                        -0.26               0.60             0.82  \n",
       "max                         3.81               0.60             2.57  "
      ]
     },
     "execution_count": 37,
     "metadata": {},
     "output_type": "execute_result"
    }
   ],
   "source": [
    "np.round(X_trained_scaled.describe(),2)"
   ]
  },
  {
   "cell_type": "code",
   "execution_count": 38,
   "metadata": {},
   "outputs": [],
   "source": [
    "model_scaled = LinearRegression().fit(X_trained_scaled, y_train)"
   ]
  },
  {
   "cell_type": "code",
   "execution_count": 39,
   "metadata": {},
   "outputs": [
    {
     "name": "stdout",
     "output_type": "stream",
     "text": [
      "Coefficients: [ 1.74593917 -2.79908387 -0.77688581 -1.27996415 -0.83570908  1.38802554\n",
      " -0.45392946 -0.89476343 -1.16231812]\n",
      "Intercept: 17.56717204497489\n",
      "model score is 0.00865652410585116\n"
     ]
    }
   ],
   "source": [
    "print('Coefficients:', model_scaled.coef_)\n",
    "print('Intercept:', model_scaled.intercept_)\n",
    "print('model score is',model_scaled.score(X_trained_scaled,y_train))"
   ]
  },
  {
   "cell_type": "code",
   "execution_count": 40,
   "metadata": {},
   "outputs": [],
   "source": [
    "y_pred_scaled = model_scaled.predict(X_test_scaled)"
   ]
  },
  {
   "cell_type": "code",
   "execution_count": 41,
   "metadata": {},
   "outputs": [
    {
     "data": {
      "text/plain": [
       "array([18.06545968, 12.5369893 , 16.90348183, ..., 18.58590295,\n",
       "       17.15730993, 19.12382243])"
      ]
     },
     "execution_count": 41,
     "metadata": {},
     "output_type": "execute_result"
    }
   ],
   "source": [
    "y_pred_scaled"
   ]
  },
  {
   "cell_type": "code",
   "execution_count": 42,
   "metadata": {},
   "outputs": [
    {
     "name": "stdout",
     "output_type": "stream",
     "text": [
      "mean squared error on scaled data is  1788.0 2\n",
      "r squared on scaled data is  -111.79657869887255\n"
     ]
    }
   ],
   "source": [
    "print('mean squared error on scaled data is ', np.round(mean_squared_error(y_pred_scaled, y_test)),2)\n",
    "print('r squared on scaled data is ', r2_score(y_pred_scaled, y_test))"
   ]
  },
  {
   "cell_type": "code",
   "execution_count": null,
   "metadata": {},
   "outputs": [],
   "source": []
  },
  {
   "cell_type": "code",
   "execution_count": null,
   "metadata": {},
   "outputs": [],
   "source": []
  }
 ],
 "metadata": {
  "kernelspec": {
   "display_name": "Python 3",
   "language": "python",
   "name": "python3"
  },
  "language_info": {
   "codemirror_mode": {
    "name": "ipython",
    "version": 3
   },
   "file_extension": ".py",
   "mimetype": "text/x-python",
   "name": "python",
   "nbconvert_exporter": "python",
   "pygments_lexer": "ipython3",
   "version": "3.7.4"
  }
 },
 "nbformat": 4,
 "nbformat_minor": 2
}
