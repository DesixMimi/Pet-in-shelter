{
 "cells": [
  {
   "cell_type": "code",
   "execution_count": 1,
   "metadata": {},
   "outputs": [],
   "source": [
    "# imports \n",
    "import numpy as np\n",
    "import pandas as pd\n",
    "from sklearn import linear_model\n",
    "from sklearn.metrics import r2_score, mean_squared_error\n",
    "from sklearn.linear_model import LinearRegression\n",
    "from sklearn.model_selection import train_test_split\n",
    "from sklearn.ensemble import IsolationForest\n",
    "\n",
    "\n",
    "import re\n",
    "#and visualization setup\n",
    "import matplotlib.pyplot as plt\n",
    "%matplotlib inline  \n",
    "plt.rcParams['figure.figsize'] = (10, 6)\n",
    "import seaborn as sns\n",
    "\n",
    "from mpl_toolkits.mplot3d import Axes3D\n",
    "from matplotlib import cm"
   ]
  },
  {
   "cell_type": "code",
   "execution_count": 2,
   "metadata": {},
   "outputs": [
    {
     "data": {
      "text/html": [
       "<div>\n",
       "<style scoped>\n",
       "    .dataframe tbody tr th:only-of-type {\n",
       "        vertical-align: middle;\n",
       "    }\n",
       "\n",
       "    .dataframe tbody tr th {\n",
       "        vertical-align: top;\n",
       "    }\n",
       "\n",
       "    .dataframe thead th {\n",
       "        text-align: right;\n",
       "    }\n",
       "</style>\n",
       "<table border=\"1\" class=\"dataframe\">\n",
       "  <thead>\n",
       "    <tr style=\"text-align: right;\">\n",
       "      <th></th>\n",
       "      <th>animal_id_outcome</th>\n",
       "      <th>age_upon_intake</th>\n",
       "      <th>animal_id_intake</th>\n",
       "      <th>animal_type</th>\n",
       "      <th>breed</th>\n",
       "      <th>color</th>\n",
       "      <th>intake_condition</th>\n",
       "      <th>intake_type</th>\n",
       "      <th>sex_upon_intake</th>\n",
       "      <th>age_upon_intake_(days)</th>\n",
       "      <th>age_upon_intake_(years)</th>\n",
       "      <th>time_in_shelter_days</th>\n",
       "    </tr>\n",
       "  </thead>\n",
       "  <tbody>\n",
       "    <tr>\n",
       "      <td>0</td>\n",
       "      <td>A006100</td>\n",
       "      <td>10 years</td>\n",
       "      <td>A006100</td>\n",
       "      <td>Dog</td>\n",
       "      <td>Spinone Italiano Mix</td>\n",
       "      <td>Yellow/White</td>\n",
       "      <td>Normal</td>\n",
       "      <td>Stray</td>\n",
       "      <td>Neutered Male</td>\n",
       "      <td>3650</td>\n",
       "      <td>10.0</td>\n",
       "      <td>0.588194</td>\n",
       "    </tr>\n",
       "    <tr>\n",
       "      <td>1</td>\n",
       "      <td>A006100</td>\n",
       "      <td>7 years</td>\n",
       "      <td>A006100</td>\n",
       "      <td>Dog</td>\n",
       "      <td>Spinone Italiano Mix</td>\n",
       "      <td>Yellow/White</td>\n",
       "      <td>Normal</td>\n",
       "      <td>Public Assist</td>\n",
       "      <td>Neutered Male</td>\n",
       "      <td>2555</td>\n",
       "      <td>7.0</td>\n",
       "      <td>1.259722</td>\n",
       "    </tr>\n",
       "    <tr>\n",
       "      <td>2</td>\n",
       "      <td>A006100</td>\n",
       "      <td>6 years</td>\n",
       "      <td>A006100</td>\n",
       "      <td>Dog</td>\n",
       "      <td>Spinone Italiano Mix</td>\n",
       "      <td>Yellow/White</td>\n",
       "      <td>Normal</td>\n",
       "      <td>Public Assist</td>\n",
       "      <td>Neutered Male</td>\n",
       "      <td>2190</td>\n",
       "      <td>6.0</td>\n",
       "      <td>1.113889</td>\n",
       "    </tr>\n",
       "    <tr>\n",
       "      <td>3</td>\n",
       "      <td>A047759</td>\n",
       "      <td>10 years</td>\n",
       "      <td>A047759</td>\n",
       "      <td>Dog</td>\n",
       "      <td>Dachshund</td>\n",
       "      <td>Tricolor</td>\n",
       "      <td>Normal</td>\n",
       "      <td>Owner Surrender</td>\n",
       "      <td>Neutered Male</td>\n",
       "      <td>3650</td>\n",
       "      <td>10.0</td>\n",
       "      <td>4.970139</td>\n",
       "    </tr>\n",
       "    <tr>\n",
       "      <td>4</td>\n",
       "      <td>A134067</td>\n",
       "      <td>16 years</td>\n",
       "      <td>A134067</td>\n",
       "      <td>Dog</td>\n",
       "      <td>Shetland Sheepdog</td>\n",
       "      <td>Brown/White</td>\n",
       "      <td>Injured</td>\n",
       "      <td>Public Assist</td>\n",
       "      <td>Neutered Male</td>\n",
       "      <td>5840</td>\n",
       "      <td>16.0</td>\n",
       "      <td>0.119444</td>\n",
       "    </tr>\n",
       "  </tbody>\n",
       "</table>\n",
       "</div>"
      ],
      "text/plain": [
       "  animal_id_outcome age_upon_intake animal_id_intake animal_type  \\\n",
       "0           A006100        10 years          A006100         Dog   \n",
       "1           A006100         7 years          A006100         Dog   \n",
       "2           A006100         6 years          A006100         Dog   \n",
       "3           A047759        10 years          A047759         Dog   \n",
       "4           A134067        16 years          A134067         Dog   \n",
       "\n",
       "                  breed         color intake_condition      intake_type  \\\n",
       "0  Spinone Italiano Mix  Yellow/White           Normal            Stray   \n",
       "1  Spinone Italiano Mix  Yellow/White           Normal    Public Assist   \n",
       "2  Spinone Italiano Mix  Yellow/White           Normal    Public Assist   \n",
       "3             Dachshund      Tricolor           Normal  Owner Surrender   \n",
       "4     Shetland Sheepdog   Brown/White          Injured    Public Assist   \n",
       "\n",
       "  sex_upon_intake  age_upon_intake_(days)  age_upon_intake_(years)  \\\n",
       "0   Neutered Male                    3650                     10.0   \n",
       "1   Neutered Male                    2555                      7.0   \n",
       "2   Neutered Male                    2190                      6.0   \n",
       "3   Neutered Male                    3650                     10.0   \n",
       "4   Neutered Male                    5840                     16.0   \n",
       "\n",
       "   time_in_shelter_days  \n",
       "0              0.588194  \n",
       "1              1.259722  \n",
       "2              1.113889  \n",
       "3              4.970139  \n",
       "4              0.119444  "
      ]
     },
     "execution_count": 2,
     "metadata": {},
     "output_type": "execute_result"
    }
   ],
   "source": [
    "path = path = '/Users/desislavamarvakov/Study/HIT/שנה ב׳/סמסטר ב׳/Data Science/Final Project/Code/clean_outcome_intake.csv'\n",
    "df = pd.read_csv(path)\n",
    "df.drop(columns = ['Unnamed: 0','sex_upon_outcome','outcome_type','age_upon_outcome','age_upon_outcome_(days)','age_upon_outcome_(years)','age_upon_outcome_age_group','age_upon_intake_age_group'], inplace = True)\n",
    "df.head()"
   ]
  },
  {
   "cell_type": "code",
   "execution_count": 3,
   "metadata": {},
   "outputs": [
    {
     "data": {
      "text/plain": [
       "array(['Neutered Male', 'Spayed Female', 'Intact Female', 'Intact Male',\n",
       "       'Unknown'], dtype=object)"
      ]
     },
     "execution_count": 3,
     "metadata": {},
     "output_type": "execute_result"
    }
   ],
   "source": [
    "pd.unique(df['sex_upon_intake'])"
   ]
  },
  {
   "cell_type": "code",
   "execution_count": 4,
   "metadata": {},
   "outputs": [],
   "source": [
    "#Mix 0, pure 1\n",
    "def breedType(x):\n",
    "    if bool(re.search('/', x)):\n",
    "        return 0\n",
    "    elif bool(re.search('Mix', x)):\n",
    "        return 0\n",
    "    else:\n",
    "        return 1"
   ]
  },
  {
   "cell_type": "code",
   "execution_count": 5,
   "metadata": {},
   "outputs": [],
   "source": [
    "#Mix 0, pure 1\n",
    "def colorPurity(x):\n",
    "    if bool(re.search('/', x)):\n",
    "        return 0\n",
    "    elif bool(re.search('Tricolor', x)):\n",
    "        return 0\n",
    "    else:\n",
    "        return 1"
   ]
  },
  {
   "cell_type": "code",
   "execution_count": 6,
   "metadata": {},
   "outputs": [],
   "source": [
    "#male 0, female 1, unknown 2\n",
    "def Gender(x):\n",
    "    if bool(re.search('Male', x)):\n",
    "        return 0\n",
    "    elif bool(re.search('Female', x)):\n",
    "        return 1\n",
    "    else:\n",
    "        return 2"
   ]
  },
  {
   "cell_type": "code",
   "execution_count": 7,
   "metadata": {},
   "outputs": [],
   "source": [
    "def age_group(age):\n",
    "    if age < 1: group = 'puppy_kitten'\n",
    "    elif age < 3: group = 'young'\n",
    "    elif age < 6: group = 'adult'\n",
    "    else: group = 'old'\n",
    "    return group"
   ]
  },
  {
   "cell_type": "code",
   "execution_count": 8,
   "metadata": {},
   "outputs": [],
   "source": [
    "#0 for cats, 1 for dogs\n",
    "def AnimalType(x):\n",
    "    if bool(re.search('Dog', x)):\n",
    "        return 1\n",
    "    else:\n",
    "        return 0"
   ]
  },
  {
   "cell_type": "code",
   "execution_count": 9,
   "metadata": {},
   "outputs": [
    {
     "name": "stdout",
     "output_type": "stream",
     "text": [
      "<class 'pandas.core.frame.DataFrame'>\n",
      "RangeIndex: 74870 entries, 0 to 74869\n",
      "Data columns (total 12 columns):\n",
      "animal_id_outcome          74870 non-null object\n",
      "age_upon_intake            74870 non-null object\n",
      "animal_id_intake           74870 non-null object\n",
      "animal_type                74870 non-null object\n",
      "breed                      74870 non-null object\n",
      "color                      74870 non-null object\n",
      "intake_condition           74870 non-null object\n",
      "intake_type                74870 non-null object\n",
      "sex_upon_intake            74870 non-null object\n",
      "age_upon_intake_(days)     74870 non-null int64\n",
      "age_upon_intake_(years)    74870 non-null float64\n",
      "time_in_shelter_days       74870 non-null float64\n",
      "dtypes: float64(2), int64(1), object(9)\n",
      "memory usage: 6.9+ MB\n"
     ]
    }
   ],
   "source": [
    "df.info()"
   ]
  },
  {
   "cell_type": "code",
   "execution_count": 10,
   "metadata": {},
   "outputs": [
    {
     "name": "stdout",
     "output_type": "stream",
     "text": [
      "age_upon_intake_(days)     1035.000000\n",
      "age_upon_intake_(years)       2.835616\n",
      "time_in_shelter_days         12.926563\n",
      "dtype: float64\n"
     ]
    }
   ],
   "source": [
    "Q1 = df.quantile(0.25)\n",
    "Q3 = df.quantile(0.75)\n",
    "IQR = Q3 - Q1\n",
    "print(IQR)"
   ]
  },
  {
   "cell_type": "code",
   "execution_count": 11,
   "metadata": {},
   "outputs": [
    {
     "data": {
      "text/plain": [
       "age_upon_intake_(days)     60.000000\n",
       "age_upon_intake_(years)     0.164384\n",
       "time_in_shelter_days        1.788889\n",
       "Name: 0.25, dtype: float64"
      ]
     },
     "execution_count": 11,
     "metadata": {},
     "output_type": "execute_result"
    }
   ],
   "source": [
    "Q1"
   ]
  },
  {
   "cell_type": "code",
   "execution_count": 12,
   "metadata": {},
   "outputs": [
    {
     "data": {
      "text/plain": [
       "age_upon_intake_(days)     1095.000000\n",
       "age_upon_intake_(years)       3.000000\n",
       "time_in_shelter_days         14.715451\n",
       "Name: 0.75, dtype: float64"
      ]
     },
     "execution_count": 12,
     "metadata": {},
     "output_type": "execute_result"
    }
   ],
   "source": [
    "Q3"
   ]
  },
  {
   "cell_type": "code",
   "execution_count": 13,
   "metadata": {},
   "outputs": [
    {
     "name": "stdout",
     "output_type": "stream",
     "text": [
      "0.4057320754782535\n"
     ]
    }
   ],
   "source": [
    "df[\"age_upon_intake_(years)\"] = np.where(df[\"age_upon_intake_(years)\"] <0.164383561, 0.164383561,df['age_upon_intake_(years)'])\n",
    "df[\"age_upon_intake_(years)\"] = np.where(df[\"age_upon_intake_(years)\"] >3.0, 3.0,df['age_upon_intake_(years)'])\n",
    "print(df['age_upon_intake_(years)'].skew())"
   ]
  },
  {
   "cell_type": "code",
   "execution_count": 14,
   "metadata": {},
   "outputs": [
    {
     "name": "stdout",
     "output_type": "stream",
     "text": [
      "(59450, 12)\n"
     ]
    }
   ],
   "source": [
    "df = df[~((df < (Q1 - 1.5 * IQR)) |(df > (Q3 + 1.5 * IQR))).any(axis=1)]\n",
    "print(df.shape)"
   ]
  },
  {
   "cell_type": "code",
   "execution_count": 15,
   "metadata": {},
   "outputs": [
    {
     "data": {
      "text/html": [
       "<div>\n",
       "<style scoped>\n",
       "    .dataframe tbody tr th:only-of-type {\n",
       "        vertical-align: middle;\n",
       "    }\n",
       "\n",
       "    .dataframe tbody tr th {\n",
       "        vertical-align: top;\n",
       "    }\n",
       "\n",
       "    .dataframe thead th {\n",
       "        text-align: right;\n",
       "    }\n",
       "</style>\n",
       "<table border=\"1\" class=\"dataframe\">\n",
       "  <thead>\n",
       "    <tr style=\"text-align: right;\">\n",
       "      <th></th>\n",
       "      <th>animal_id_outcome</th>\n",
       "      <th>age_upon_intake</th>\n",
       "      <th>animal_id_intake</th>\n",
       "      <th>animal_type</th>\n",
       "      <th>breed</th>\n",
       "      <th>color</th>\n",
       "      <th>intake_condition</th>\n",
       "      <th>intake_type</th>\n",
       "      <th>sex_upon_intake</th>\n",
       "      <th>age_upon_intake_(days)</th>\n",
       "      <th>age_upon_intake_(years)</th>\n",
       "      <th>time_in_shelter_days</th>\n",
       "    </tr>\n",
       "  </thead>\n",
       "  <tbody>\n",
       "    <tr>\n",
       "      <td>1</td>\n",
       "      <td>A006100</td>\n",
       "      <td>7 years</td>\n",
       "      <td>A006100</td>\n",
       "      <td>Dog</td>\n",
       "      <td>Spinone Italiano Mix</td>\n",
       "      <td>Yellow/White</td>\n",
       "      <td>Normal</td>\n",
       "      <td>Public Assist</td>\n",
       "      <td>Neutered Male</td>\n",
       "      <td>2555</td>\n",
       "      <td>3.000000</td>\n",
       "      <td>1.259722</td>\n",
       "    </tr>\n",
       "    <tr>\n",
       "      <td>2</td>\n",
       "      <td>A006100</td>\n",
       "      <td>6 years</td>\n",
       "      <td>A006100</td>\n",
       "      <td>Dog</td>\n",
       "      <td>Spinone Italiano Mix</td>\n",
       "      <td>Yellow/White</td>\n",
       "      <td>Normal</td>\n",
       "      <td>Public Assist</td>\n",
       "      <td>Neutered Male</td>\n",
       "      <td>2190</td>\n",
       "      <td>3.000000</td>\n",
       "      <td>1.113889</td>\n",
       "    </tr>\n",
       "    <tr>\n",
       "      <td>198</td>\n",
       "      <td>A373219</td>\n",
       "      <td>5 years</td>\n",
       "      <td>A373219</td>\n",
       "      <td>Cat</td>\n",
       "      <td>Domestic Shorthair Mix</td>\n",
       "      <td>Brown Tabby</td>\n",
       "      <td>Normal</td>\n",
       "      <td>Owner Surrender</td>\n",
       "      <td>Spayed Female</td>\n",
       "      <td>1825</td>\n",
       "      <td>3.000000</td>\n",
       "      <td>7.189583</td>\n",
       "    </tr>\n",
       "    <tr>\n",
       "      <td>278</td>\n",
       "      <td>A419781</td>\n",
       "      <td>7 years</td>\n",
       "      <td>A419781</td>\n",
       "      <td>Dog</td>\n",
       "      <td>Labrador Retriever Mix</td>\n",
       "      <td>Red</td>\n",
       "      <td>Normal</td>\n",
       "      <td>Stray</td>\n",
       "      <td>Spayed Female</td>\n",
       "      <td>2555</td>\n",
       "      <td>3.000000</td>\n",
       "      <td>1.085417</td>\n",
       "    </tr>\n",
       "    <tr>\n",
       "      <td>280</td>\n",
       "      <td>A420464</td>\n",
       "      <td>7 years</td>\n",
       "      <td>A420464</td>\n",
       "      <td>Dog</td>\n",
       "      <td>Labrador Retriever Mix</td>\n",
       "      <td>Black/White</td>\n",
       "      <td>Normal</td>\n",
       "      <td>Stray</td>\n",
       "      <td>Neutered Male</td>\n",
       "      <td>2555</td>\n",
       "      <td>3.000000</td>\n",
       "      <td>1.309722</td>\n",
       "    </tr>\n",
       "    <tr>\n",
       "      <td>...</td>\n",
       "      <td>...</td>\n",
       "      <td>...</td>\n",
       "      <td>...</td>\n",
       "      <td>...</td>\n",
       "      <td>...</td>\n",
       "      <td>...</td>\n",
       "      <td>...</td>\n",
       "      <td>...</td>\n",
       "      <td>...</td>\n",
       "      <td>...</td>\n",
       "      <td>...</td>\n",
       "      <td>...</td>\n",
       "    </tr>\n",
       "    <tr>\n",
       "      <td>74864</td>\n",
       "      <td>A769057</td>\n",
       "      <td>2 weeks</td>\n",
       "      <td>A769057</td>\n",
       "      <td>Cat</td>\n",
       "      <td>Domestic Shorthair Mix</td>\n",
       "      <td>Gray Tabby</td>\n",
       "      <td>Normal</td>\n",
       "      <td>Stray</td>\n",
       "      <td>Unknown</td>\n",
       "      <td>14</td>\n",
       "      <td>0.164384</td>\n",
       "      <td>0.076389</td>\n",
       "    </tr>\n",
       "    <tr>\n",
       "      <td>74865</td>\n",
       "      <td>A769058</td>\n",
       "      <td>2 weeks</td>\n",
       "      <td>A769058</td>\n",
       "      <td>Cat</td>\n",
       "      <td>Domestic Shorthair Mix</td>\n",
       "      <td>Blue</td>\n",
       "      <td>Normal</td>\n",
       "      <td>Stray</td>\n",
       "      <td>Unknown</td>\n",
       "      <td>14</td>\n",
       "      <td>0.164384</td>\n",
       "      <td>0.076389</td>\n",
       "    </tr>\n",
       "    <tr>\n",
       "      <td>74866</td>\n",
       "      <td>A769059</td>\n",
       "      <td>2 weeks</td>\n",
       "      <td>A769059</td>\n",
       "      <td>Cat</td>\n",
       "      <td>Domestic Shorthair Mix</td>\n",
       "      <td>Blue</td>\n",
       "      <td>Normal</td>\n",
       "      <td>Stray</td>\n",
       "      <td>Unknown</td>\n",
       "      <td>14</td>\n",
       "      <td>0.164384</td>\n",
       "      <td>0.708333</td>\n",
       "    </tr>\n",
       "    <tr>\n",
       "      <td>74867</td>\n",
       "      <td>A769060</td>\n",
       "      <td>2 weeks</td>\n",
       "      <td>A769060</td>\n",
       "      <td>Cat</td>\n",
       "      <td>Domestic Shorthair Mix</td>\n",
       "      <td>Tortie</td>\n",
       "      <td>Normal</td>\n",
       "      <td>Stray</td>\n",
       "      <td>Unknown</td>\n",
       "      <td>14</td>\n",
       "      <td>0.164384</td>\n",
       "      <td>0.077083</td>\n",
       "    </tr>\n",
       "    <tr>\n",
       "      <td>74868</td>\n",
       "      <td>A769066</td>\n",
       "      <td>5 months</td>\n",
       "      <td>A769066</td>\n",
       "      <td>Dog</td>\n",
       "      <td>Labrador Retriever Mix</td>\n",
       "      <td>Black/White</td>\n",
       "      <td>Normal</td>\n",
       "      <td>Stray</td>\n",
       "      <td>Intact Male</td>\n",
       "      <td>150</td>\n",
       "      <td>0.410959</td>\n",
       "      <td>1.762500</td>\n",
       "    </tr>\n",
       "  </tbody>\n",
       "</table>\n",
       "<p>59450 rows × 12 columns</p>\n",
       "</div>"
      ],
      "text/plain": [
       "      animal_id_outcome age_upon_intake animal_id_intake animal_type  \\\n",
       "1               A006100         7 years          A006100         Dog   \n",
       "2               A006100         6 years          A006100         Dog   \n",
       "198             A373219         5 years          A373219         Cat   \n",
       "278             A419781         7 years          A419781         Dog   \n",
       "280             A420464         7 years          A420464         Dog   \n",
       "...                 ...             ...              ...         ...   \n",
       "74864           A769057         2 weeks          A769057         Cat   \n",
       "74865           A769058         2 weeks          A769058         Cat   \n",
       "74866           A769059         2 weeks          A769059         Cat   \n",
       "74867           A769060         2 weeks          A769060         Cat   \n",
       "74868           A769066        5 months          A769066         Dog   \n",
       "\n",
       "                        breed         color intake_condition      intake_type  \\\n",
       "1        Spinone Italiano Mix  Yellow/White           Normal    Public Assist   \n",
       "2        Spinone Italiano Mix  Yellow/White           Normal    Public Assist   \n",
       "198    Domestic Shorthair Mix   Brown Tabby           Normal  Owner Surrender   \n",
       "278    Labrador Retriever Mix           Red           Normal            Stray   \n",
       "280    Labrador Retriever Mix   Black/White           Normal            Stray   \n",
       "...                       ...           ...              ...              ...   \n",
       "74864  Domestic Shorthair Mix    Gray Tabby           Normal            Stray   \n",
       "74865  Domestic Shorthair Mix          Blue           Normal            Stray   \n",
       "74866  Domestic Shorthair Mix          Blue           Normal            Stray   \n",
       "74867  Domestic Shorthair Mix        Tortie           Normal            Stray   \n",
       "74868  Labrador Retriever Mix   Black/White           Normal            Stray   \n",
       "\n",
       "      sex_upon_intake  age_upon_intake_(days)  age_upon_intake_(years)  \\\n",
       "1       Neutered Male                    2555                 3.000000   \n",
       "2       Neutered Male                    2190                 3.000000   \n",
       "198     Spayed Female                    1825                 3.000000   \n",
       "278     Spayed Female                    2555                 3.000000   \n",
       "280     Neutered Male                    2555                 3.000000   \n",
       "...               ...                     ...                      ...   \n",
       "74864         Unknown                      14                 0.164384   \n",
       "74865         Unknown                      14                 0.164384   \n",
       "74866         Unknown                      14                 0.164384   \n",
       "74867         Unknown                      14                 0.164384   \n",
       "74868     Intact Male                     150                 0.410959   \n",
       "\n",
       "       time_in_shelter_days  \n",
       "1                  1.259722  \n",
       "2                  1.113889  \n",
       "198                7.189583  \n",
       "278                1.085417  \n",
       "280                1.309722  \n",
       "...                     ...  \n",
       "74864              0.076389  \n",
       "74865              0.076389  \n",
       "74866              0.708333  \n",
       "74867              0.077083  \n",
       "74868              1.762500  \n",
       "\n",
       "[59450 rows x 12 columns]"
      ]
     },
     "execution_count": 15,
     "metadata": {},
     "output_type": "execute_result"
    }
   ],
   "source": [
    "df"
   ]
  },
  {
   "cell_type": "code",
   "execution_count": 16,
   "metadata": {},
   "outputs": [
    {
     "data": {
      "text/html": [
       "<div>\n",
       "<style scoped>\n",
       "    .dataframe tbody tr th:only-of-type {\n",
       "        vertical-align: middle;\n",
       "    }\n",
       "\n",
       "    .dataframe tbody tr th {\n",
       "        vertical-align: top;\n",
       "    }\n",
       "\n",
       "    .dataframe thead th {\n",
       "        text-align: right;\n",
       "    }\n",
       "</style>\n",
       "<table border=\"1\" class=\"dataframe\">\n",
       "  <thead>\n",
       "    <tr style=\"text-align: right;\">\n",
       "      <th></th>\n",
       "      <th>animal_id_outcome</th>\n",
       "      <th>age_upon_intake</th>\n",
       "      <th>animal_id_intake</th>\n",
       "      <th>animal_type</th>\n",
       "      <th>breed</th>\n",
       "      <th>color</th>\n",
       "      <th>intake_condition</th>\n",
       "      <th>intake_type</th>\n",
       "      <th>sex_upon_intake</th>\n",
       "      <th>age_upon_intake_(days)</th>\n",
       "      <th>age_upon_intake_(years)</th>\n",
       "      <th>time_in_shelter_days</th>\n",
       "    </tr>\n",
       "  </thead>\n",
       "  <tbody>\n",
       "    <tr>\n",
       "      <td>1</td>\n",
       "      <td>A006100</td>\n",
       "      <td>7 years</td>\n",
       "      <td>A006100</td>\n",
       "      <td>1</td>\n",
       "      <td>0</td>\n",
       "      <td>0</td>\n",
       "      <td>Normal</td>\n",
       "      <td>Public Assist</td>\n",
       "      <td>0</td>\n",
       "      <td>2555</td>\n",
       "      <td>3.0</td>\n",
       "      <td>1.259722</td>\n",
       "    </tr>\n",
       "    <tr>\n",
       "      <td>2</td>\n",
       "      <td>A006100</td>\n",
       "      <td>6 years</td>\n",
       "      <td>A006100</td>\n",
       "      <td>1</td>\n",
       "      <td>0</td>\n",
       "      <td>0</td>\n",
       "      <td>Normal</td>\n",
       "      <td>Public Assist</td>\n",
       "      <td>0</td>\n",
       "      <td>2190</td>\n",
       "      <td>3.0</td>\n",
       "      <td>1.113889</td>\n",
       "    </tr>\n",
       "    <tr>\n",
       "      <td>198</td>\n",
       "      <td>A373219</td>\n",
       "      <td>5 years</td>\n",
       "      <td>A373219</td>\n",
       "      <td>0</td>\n",
       "      <td>0</td>\n",
       "      <td>1</td>\n",
       "      <td>Normal</td>\n",
       "      <td>Owner Surrender</td>\n",
       "      <td>1</td>\n",
       "      <td>1825</td>\n",
       "      <td>3.0</td>\n",
       "      <td>7.189583</td>\n",
       "    </tr>\n",
       "    <tr>\n",
       "      <td>278</td>\n",
       "      <td>A419781</td>\n",
       "      <td>7 years</td>\n",
       "      <td>A419781</td>\n",
       "      <td>1</td>\n",
       "      <td>0</td>\n",
       "      <td>1</td>\n",
       "      <td>Normal</td>\n",
       "      <td>Stray</td>\n",
       "      <td>1</td>\n",
       "      <td>2555</td>\n",
       "      <td>3.0</td>\n",
       "      <td>1.085417</td>\n",
       "    </tr>\n",
       "    <tr>\n",
       "      <td>280</td>\n",
       "      <td>A420464</td>\n",
       "      <td>7 years</td>\n",
       "      <td>A420464</td>\n",
       "      <td>1</td>\n",
       "      <td>0</td>\n",
       "      <td>0</td>\n",
       "      <td>Normal</td>\n",
       "      <td>Stray</td>\n",
       "      <td>0</td>\n",
       "      <td>2555</td>\n",
       "      <td>3.0</td>\n",
       "      <td>1.309722</td>\n",
       "    </tr>\n",
       "  </tbody>\n",
       "</table>\n",
       "</div>"
      ],
      "text/plain": [
       "    animal_id_outcome age_upon_intake animal_id_intake  animal_type  breed  \\\n",
       "1             A006100         7 years          A006100            1      0   \n",
       "2             A006100         6 years          A006100            1      0   \n",
       "198           A373219         5 years          A373219            0      0   \n",
       "278           A419781         7 years          A419781            1      0   \n",
       "280           A420464         7 years          A420464            1      0   \n",
       "\n",
       "     color intake_condition      intake_type  sex_upon_intake  \\\n",
       "1        0           Normal    Public Assist                0   \n",
       "2        0           Normal    Public Assist                0   \n",
       "198      1           Normal  Owner Surrender                1   \n",
       "278      1           Normal            Stray                1   \n",
       "280      0           Normal            Stray                0   \n",
       "\n",
       "     age_upon_intake_(days)  age_upon_intake_(years)  time_in_shelter_days  \n",
       "1                      2555                      3.0              1.259722  \n",
       "2                      2190                      3.0              1.113889  \n",
       "198                    1825                      3.0              7.189583  \n",
       "278                    2555                      3.0              1.085417  \n",
       "280                    2555                      3.0              1.309722  "
      ]
     },
     "execution_count": 16,
     "metadata": {},
     "output_type": "execute_result"
    }
   ],
   "source": [
    "df.breed = df.breed.apply(breedType)\n",
    "df.color = df.color.apply(colorPurity)\n",
    "#df['age_upon_intake_(years)'] = df['age_upon_intake_(years)'].apply(age_group)\n",
    "df.animal_type = df.animal_type.apply(AnimalType)\n",
    "df.sex_upon_intake = df.sex_upon_intake.apply(Gender)\n",
    "df.head()"
   ]
  },
  {
   "cell_type": "code",
   "execution_count": 17,
   "metadata": {},
   "outputs": [
    {
     "data": {
      "text/html": [
       "<div>\n",
       "<style scoped>\n",
       "    .dataframe tbody tr th:only-of-type {\n",
       "        vertical-align: middle;\n",
       "    }\n",
       "\n",
       "    .dataframe tbody tr th {\n",
       "        vertical-align: top;\n",
       "    }\n",
       "\n",
       "    .dataframe thead th {\n",
       "        text-align: right;\n",
       "    }\n",
       "</style>\n",
       "<table border=\"1\" class=\"dataframe\">\n",
       "  <thead>\n",
       "    <tr style=\"text-align: right;\">\n",
       "      <th></th>\n",
       "      <th>animal_type</th>\n",
       "      <th>breed</th>\n",
       "      <th>color</th>\n",
       "      <th>sex_upon_intake</th>\n",
       "      <th>age_upon_intake_(days)</th>\n",
       "      <th>age_upon_intake_(years)</th>\n",
       "      <th>time_in_shelter_days</th>\n",
       "    </tr>\n",
       "  </thead>\n",
       "  <tbody>\n",
       "    <tr>\n",
       "      <td>count</td>\n",
       "      <td>59450.000000</td>\n",
       "      <td>59450.000000</td>\n",
       "      <td>59450.000000</td>\n",
       "      <td>59450.000000</td>\n",
       "      <td>59450.000000</td>\n",
       "      <td>59450.000000</td>\n",
       "      <td>59450.000000</td>\n",
       "    </tr>\n",
       "    <tr>\n",
       "      <td>mean</td>\n",
       "      <td>0.621396</td>\n",
       "      <td>0.048663</td>\n",
       "      <td>0.435071</td>\n",
       "      <td>0.547216</td>\n",
       "      <td>556.494230</td>\n",
       "      <td>1.249365</td>\n",
       "      <td>6.737108</td>\n",
       "    </tr>\n",
       "    <tr>\n",
       "      <td>std</td>\n",
       "      <td>0.485043</td>\n",
       "      <td>0.215164</td>\n",
       "      <td>0.495771</td>\n",
       "      <td>0.584094</td>\n",
       "      <td>630.896179</td>\n",
       "      <td>1.078096</td>\n",
       "      <td>7.430372</td>\n",
       "    </tr>\n",
       "    <tr>\n",
       "      <td>min</td>\n",
       "      <td>0.000000</td>\n",
       "      <td>0.000000</td>\n",
       "      <td>0.000000</td>\n",
       "      <td>0.000000</td>\n",
       "      <td>0.000000</td>\n",
       "      <td>0.164384</td>\n",
       "      <td>0.000000</td>\n",
       "    </tr>\n",
       "    <tr>\n",
       "      <td>25%</td>\n",
       "      <td>0.000000</td>\n",
       "      <td>0.000000</td>\n",
       "      <td>0.000000</td>\n",
       "      <td>0.000000</td>\n",
       "      <td>60.000000</td>\n",
       "      <td>0.164384</td>\n",
       "      <td>1.136111</td>\n",
       "    </tr>\n",
       "    <tr>\n",
       "      <td>50%</td>\n",
       "      <td>1.000000</td>\n",
       "      <td>0.000000</td>\n",
       "      <td>0.000000</td>\n",
       "      <td>1.000000</td>\n",
       "      <td>365.000000</td>\n",
       "      <td>1.000000</td>\n",
       "      <td>4.257986</td>\n",
       "    </tr>\n",
       "    <tr>\n",
       "      <td>75%</td>\n",
       "      <td>1.000000</td>\n",
       "      <td>0.000000</td>\n",
       "      <td>1.000000</td>\n",
       "      <td>1.000000</td>\n",
       "      <td>730.000000</td>\n",
       "      <td>2.000000</td>\n",
       "      <td>8.962500</td>\n",
       "    </tr>\n",
       "    <tr>\n",
       "      <td>max</td>\n",
       "      <td>1.000000</td>\n",
       "      <td>1.000000</td>\n",
       "      <td>1.000000</td>\n",
       "      <td>2.000000</td>\n",
       "      <td>2555.000000</td>\n",
       "      <td>3.000000</td>\n",
       "      <td>34.104861</td>\n",
       "    </tr>\n",
       "  </tbody>\n",
       "</table>\n",
       "</div>"
      ],
      "text/plain": [
       "        animal_type         breed         color  sex_upon_intake  \\\n",
       "count  59450.000000  59450.000000  59450.000000     59450.000000   \n",
       "mean       0.621396      0.048663      0.435071         0.547216   \n",
       "std        0.485043      0.215164      0.495771         0.584094   \n",
       "min        0.000000      0.000000      0.000000         0.000000   \n",
       "25%        0.000000      0.000000      0.000000         0.000000   \n",
       "50%        1.000000      0.000000      0.000000         1.000000   \n",
       "75%        1.000000      0.000000      1.000000         1.000000   \n",
       "max        1.000000      1.000000      1.000000         2.000000   \n",
       "\n",
       "       age_upon_intake_(days)  age_upon_intake_(years)  time_in_shelter_days  \n",
       "count            59450.000000             59450.000000          59450.000000  \n",
       "mean               556.494230                 1.249365              6.737108  \n",
       "std                630.896179                 1.078096              7.430372  \n",
       "min                  0.000000                 0.164384              0.000000  \n",
       "25%                 60.000000                 0.164384              1.136111  \n",
       "50%                365.000000                 1.000000              4.257986  \n",
       "75%                730.000000                 2.000000              8.962500  \n",
       "max               2555.000000                 3.000000             34.104861  "
      ]
     },
     "execution_count": 17,
     "metadata": {},
     "output_type": "execute_result"
    }
   ],
   "source": [
    "df.describe()"
   ]
  },
  {
   "cell_type": "code",
   "execution_count": 18,
   "metadata": {},
   "outputs": [
    {
     "name": "stdout",
     "output_type": "stream",
     "text": [
      "<class 'pandas.core.frame.DataFrame'>\n",
      "Int64Index: 26376 entries, 1215 to 74858\n",
      "Data columns (total 12 columns):\n",
      "animal_id_outcome          26376 non-null object\n",
      "age_upon_intake            26376 non-null object\n",
      "animal_id_intake           26376 non-null object\n",
      "animal_type                26376 non-null int64\n",
      "breed                      26376 non-null int64\n",
      "color                      26376 non-null int64\n",
      "intake_condition           26376 non-null object\n",
      "intake_type                26376 non-null object\n",
      "sex_upon_intake            26376 non-null int64\n",
      "age_upon_intake_(days)     26376 non-null int64\n",
      "age_upon_intake_(years)    26376 non-null float64\n",
      "time_in_shelter_days       26376 non-null float64\n",
      "dtypes: float64(2), int64(5), object(5)\n",
      "memory usage: 2.6+ MB\n"
     ]
    }
   ],
   "source": [
    "df[(df['time_in_shelter_days']<100)&(df['age_upon_intake_(years)']<2.0)&(df['time_in_shelter_days']>2)].info()"
   ]
  },
  {
   "cell_type": "code",
   "execution_count": 19,
   "metadata": {},
   "outputs": [],
   "source": [
    "# def scatterplot(x_data, y_data, x_label=\"\", y_label=\"\", title=\"\", color = 'purple', yscale_log=False):\n",
    "\n",
    "#     # Create the plot object\n",
    "#     _, ax = plt.subplots()\n",
    "\n",
    "#     # Plot the data, set the size (s), color and transparency (alpha)\n",
    "#     # of the points\n",
    "#     ax.scatter(x_data, y_data, s = 10, color = color, alpha = 0.75)\n",
    "\n",
    "#     if yscale_log == True:\n",
    "#         ax.set_yscale('log')\n",
    "\n",
    "#     # Label the axes and provide a title\n",
    "#     ax.set_title(title)\n",
    "#     ax.set_xlabel(x_label)\n",
    "#     ax.set_ylabel(y_label)"
   ]
  },
  {
   "cell_type": "code",
   "execution_count": 20,
   "metadata": {},
   "outputs": [],
   "source": [
    "# df.apply(scatterplot(df['age_upon_intake_(years)'],df['time_in_shelter_days'],'Age upon intake','Time in shelter (days)','t'))"
   ]
  },
  {
   "cell_type": "code",
   "execution_count": 21,
   "metadata": {},
   "outputs": [
    {
     "data": {
      "text/plain": [
       "array(['Public Assist', 'Owner Surrender', 'Stray', 'Euthanasia Request'],\n",
       "      dtype=object)"
      ]
     },
     "execution_count": 21,
     "metadata": {},
     "output_type": "execute_result"
    }
   ],
   "source": [
    "pd.unique(df['intake_type'])"
   ]
  },
  {
   "cell_type": "code",
   "execution_count": 22,
   "metadata": {},
   "outputs": [
    {
     "data": {
      "text/plain": [
       "array(['Normal', 'Injured', 'Sick', 'Pregnant', 'Other', 'Aged',\n",
       "       'Nursing', 'Feral'], dtype=object)"
      ]
     },
     "execution_count": 22,
     "metadata": {},
     "output_type": "execute_result"
    }
   ],
   "source": [
    "pd.unique(df['intake_condition'])"
   ]
  },
  {
   "cell_type": "code",
   "execution_count": 23,
   "metadata": {},
   "outputs": [
    {
     "data": {
      "text/html": [
       "<div>\n",
       "<style scoped>\n",
       "    .dataframe tbody tr th:only-of-type {\n",
       "        vertical-align: middle;\n",
       "    }\n",
       "\n",
       "    .dataframe tbody tr th {\n",
       "        vertical-align: top;\n",
       "    }\n",
       "\n",
       "    .dataframe thead th {\n",
       "        text-align: right;\n",
       "    }\n",
       "</style>\n",
       "<table border=\"1\" class=\"dataframe\">\n",
       "  <thead>\n",
       "    <tr style=\"text-align: right;\">\n",
       "      <th></th>\n",
       "      <th>animal_id_outcome</th>\n",
       "      <th>age_upon_intake</th>\n",
       "      <th>animal_id_intake</th>\n",
       "      <th>animal_type</th>\n",
       "      <th>breed</th>\n",
       "      <th>color</th>\n",
       "      <th>intake_condition</th>\n",
       "      <th>intake_type</th>\n",
       "      <th>sex_upon_intake</th>\n",
       "      <th>age_upon_intake_(days)</th>\n",
       "      <th>age_upon_intake_(years)</th>\n",
       "      <th>time_in_shelter_days</th>\n",
       "    </tr>\n",
       "  </thead>\n",
       "  <tbody>\n",
       "  </tbody>\n",
       "</table>\n",
       "</div>"
      ],
      "text/plain": [
       "Empty DataFrame\n",
       "Columns: [animal_id_outcome, age_upon_intake, animal_id_intake, animal_type, breed, color, intake_condition, intake_type, sex_upon_intake, age_upon_intake_(days), age_upon_intake_(years), time_in_shelter_days]\n",
       "Index: []"
      ]
     },
     "execution_count": 23,
     "metadata": {},
     "output_type": "execute_result"
    }
   ],
   "source": [
    "#checking the validity of the data\n",
    "df[df['animal_id_outcome']!=df['animal_id_intake']]"
   ]
  },
  {
   "cell_type": "code",
   "execution_count": 24,
   "metadata": {},
   "outputs": [],
   "source": [
    "\n",
    "df.drop(columns = ['animal_id_outcome','age_upon_intake_(days)','age_upon_intake'],inplace=True)\n",
    "#df.drop(columns = ['animal_id_outcome','age_upon_intake_(days)','age_upon_intake','intake_condition'],inplace=True)"
   ]
  },
  {
   "cell_type": "code",
   "execution_count": 25,
   "metadata": {},
   "outputs": [
    {
     "data": {
      "image/png": "[encoded data removed]",
      "text/plain": [
       "<Figure size 432x288 with 1 Axes>"
      ]
     },
     "metadata": {
      "needs_background": "light"
     },
     "output_type": "display_data"
    }
   ],
   "source": [
    "plt.scatter(x=df['intake_type'],y=df['time_in_shelter_days'],c='r',marker='s',label='animal_type')\n",
    "# plt.scatter(x=df['age_upon_intake_(years)'],y=df['time_in_shelter_days'],c='b',marker='o',label='age_upon_intake')\n",
    "# plt.scatter(x=df['intake_condition'],y=df['time_in_shelter_days'],c='k',marker='*',label='intake_condition')\n",
    "\n",
    "plt.legend(numpoints=1,loc=5)\n",
    "plt.xlabel('intake_type')\n",
    "plt.ylabel('time_in_shelter_days')\n",
    "plt.show()"
   ]
  },
  {
   "cell_type": "code",
   "execution_count": 26,
   "metadata": {},
   "outputs": [
    {
     "data": {
      "image/png": "[encoded data removed]",
      "text/plain": [
       "<Figure size 432x288 with 1 Axes>"
      ]
     },
     "metadata": {
      "needs_background": "light"
     },
     "output_type": "display_data"
    }
   ],
   "source": [
    "plt.scatter(x=df['age_upon_intake_(years)'],y=df['time_in_shelter_days'],c='b',marker='o',label='age_upon_intake')\n",
    "\n",
    "plt.legend(numpoints=1,loc=5)\n",
    "plt.xlabel('age upon intake')\n",
    "plt.ylabel('time_in_shelter_days')\n",
    "plt.show()"
   ]
  },
  {
   "cell_type": "code",
   "execution_count": 27,
   "metadata": {},
   "outputs": [
    {
     "data": {
      "image/png": "[encoded data removed]",
      "text/plain": [
       "<Figure size 432x288 with 1 Axes>"
      ]
     },
     "metadata": {
      "needs_background": "light"
     },
     "output_type": "display_data"
    }
   ],
   "source": [
    "plt.scatter(x=df['intake_condition'],y=df['time_in_shelter_days'],c='k',marker='*',label='intake_condition')\n",
    "\n",
    "plt.legend(numpoints=1,loc=5)\n",
    "plt.xlabel('intake_condition')\n",
    "plt.ylabel('time_in_shelter_days')\n",
    "plt.show()"
   ]
  },
  {
   "cell_type": "code",
   "execution_count": 28,
   "metadata": {},
   "outputs": [
    {
     "data": {
      "text/plain": [
       "0.085417     51\n",
       "0.063889     49\n",
       "0.079861     49\n",
       "0.054861     48\n",
       "0.070833     47\n",
       "             ..\n",
       "19.772917     1\n",
       "32.070833     1\n",
       "17.093750     1\n",
       "3.666667      1\n",
       "27.311111     1\n",
       "Name: time_in_shelter_days, Length: 18810, dtype: int64"
      ]
     },
     "execution_count": 28,
     "metadata": {},
     "output_type": "execute_result"
    }
   ],
   "source": [
    "df['time_in_shelter_days'].value_counts()"
   ]
  },
  {
   "cell_type": "code",
   "execution_count": 29,
   "metadata": {},
   "outputs": [
    {
     "data": {
      "text/plain": [
       "34.10486111"
      ]
     },
     "execution_count": 29,
     "metadata": {},
     "output_type": "execute_result"
    }
   ],
   "source": [
    "df['time_in_shelter_days'].max()"
   ]
  },
  {
   "cell_type": "code",
   "execution_count": 30,
   "metadata": {},
   "outputs": [],
   "source": [
    "df = pd.get_dummies(df, columns=['intake_type'])"
   ]
  },
  {
   "cell_type": "markdown",
   "metadata": {},
   "source": [
    "We decided to drop the \"intake condition\" column because we don't think it would benefit the model.\n",
    "if the accuracy won't be high, we will try it again by including this column"
   ]
  },
  {
   "cell_type": "code",
   "execution_count": 31,
   "metadata": {},
   "outputs": [],
   "source": [
    "df.drop(columns=['intake_condition'],inplace = True)\n",
    "#df.drop(columns=['intake_type'],inplace = True)"
   ]
  },
  {
   "cell_type": "code",
   "execution_count": 32,
   "metadata": {},
   "outputs": [
    {
     "data": {
      "text/html": [
       "<div>\n",
       "<style scoped>\n",
       "    .dataframe tbody tr th:only-of-type {\n",
       "        vertical-align: middle;\n",
       "    }\n",
       "\n",
       "    .dataframe tbody tr th {\n",
       "        vertical-align: top;\n",
       "    }\n",
       "\n",
       "    .dataframe thead th {\n",
       "        text-align: right;\n",
       "    }\n",
       "</style>\n",
       "<table border=\"1\" class=\"dataframe\">\n",
       "  <thead>\n",
       "    <tr style=\"text-align: right;\">\n",
       "      <th></th>\n",
       "      <th>animal_type</th>\n",
       "      <th>breed</th>\n",
       "      <th>color</th>\n",
       "      <th>sex_upon_intake</th>\n",
       "      <th>age_upon_intake_(years)</th>\n",
       "      <th>time_in_shelter_days</th>\n",
       "      <th>intake_type_Euthanasia Request</th>\n",
       "      <th>intake_type_Owner Surrender</th>\n",
       "      <th>intake_type_Public Assist</th>\n",
       "      <th>intake_type_Stray</th>\n",
       "    </tr>\n",
       "  </thead>\n",
       "  <tbody>\n",
       "    <tr>\n",
       "      <td>1</td>\n",
       "      <td>1</td>\n",
       "      <td>0</td>\n",
       "      <td>0</td>\n",
       "      <td>0</td>\n",
       "      <td>3.000000</td>\n",
       "      <td>1.259722</td>\n",
       "      <td>0</td>\n",
       "      <td>0</td>\n",
       "      <td>1</td>\n",
       "      <td>0</td>\n",
       "    </tr>\n",
       "    <tr>\n",
       "      <td>2</td>\n",
       "      <td>1</td>\n",
       "      <td>0</td>\n",
       "      <td>0</td>\n",
       "      <td>0</td>\n",
       "      <td>3.000000</td>\n",
       "      <td>1.113889</td>\n",
       "      <td>0</td>\n",
       "      <td>0</td>\n",
       "      <td>1</td>\n",
       "      <td>0</td>\n",
       "    </tr>\n",
       "    <tr>\n",
       "      <td>198</td>\n",
       "      <td>0</td>\n",
       "      <td>0</td>\n",
       "      <td>1</td>\n",
       "      <td>1</td>\n",
       "      <td>3.000000</td>\n",
       "      <td>7.189583</td>\n",
       "      <td>0</td>\n",
       "      <td>1</td>\n",
       "      <td>0</td>\n",
       "      <td>0</td>\n",
       "    </tr>\n",
       "    <tr>\n",
       "      <td>278</td>\n",
       "      <td>1</td>\n",
       "      <td>0</td>\n",
       "      <td>1</td>\n",
       "      <td>1</td>\n",
       "      <td>3.000000</td>\n",
       "      <td>1.085417</td>\n",
       "      <td>0</td>\n",
       "      <td>0</td>\n",
       "      <td>0</td>\n",
       "      <td>1</td>\n",
       "    </tr>\n",
       "    <tr>\n",
       "      <td>280</td>\n",
       "      <td>1</td>\n",
       "      <td>0</td>\n",
       "      <td>0</td>\n",
       "      <td>0</td>\n",
       "      <td>3.000000</td>\n",
       "      <td>1.309722</td>\n",
       "      <td>0</td>\n",
       "      <td>0</td>\n",
       "      <td>0</td>\n",
       "      <td>1</td>\n",
       "    </tr>\n",
       "    <tr>\n",
       "      <td>...</td>\n",
       "      <td>...</td>\n",
       "      <td>...</td>\n",
       "      <td>...</td>\n",
       "      <td>...</td>\n",
       "      <td>...</td>\n",
       "      <td>...</td>\n",
       "      <td>...</td>\n",
       "      <td>...</td>\n",
       "      <td>...</td>\n",
       "      <td>...</td>\n",
       "    </tr>\n",
       "    <tr>\n",
       "      <td>74864</td>\n",
       "      <td>0</td>\n",
       "      <td>0</td>\n",
       "      <td>1</td>\n",
       "      <td>2</td>\n",
       "      <td>0.164384</td>\n",
       "      <td>0.076389</td>\n",
       "      <td>0</td>\n",
       "      <td>0</td>\n",
       "      <td>0</td>\n",
       "      <td>1</td>\n",
       "    </tr>\n",
       "    <tr>\n",
       "      <td>74865</td>\n",
       "      <td>0</td>\n",
       "      <td>0</td>\n",
       "      <td>1</td>\n",
       "      <td>2</td>\n",
       "      <td>0.164384</td>\n",
       "      <td>0.076389</td>\n",
       "      <td>0</td>\n",
       "      <td>0</td>\n",
       "      <td>0</td>\n",
       "      <td>1</td>\n",
       "    </tr>\n",
       "    <tr>\n",
       "      <td>74866</td>\n",
       "      <td>0</td>\n",
       "      <td>0</td>\n",
       "      <td>1</td>\n",
       "      <td>2</td>\n",
       "      <td>0.164384</td>\n",
       "      <td>0.708333</td>\n",
       "      <td>0</td>\n",
       "      <td>0</td>\n",
       "      <td>0</td>\n",
       "      <td>1</td>\n",
       "    </tr>\n",
       "    <tr>\n",
       "      <td>74867</td>\n",
       "      <td>0</td>\n",
       "      <td>0</td>\n",
       "      <td>1</td>\n",
       "      <td>2</td>\n",
       "      <td>0.164384</td>\n",
       "      <td>0.077083</td>\n",
       "      <td>0</td>\n",
       "      <td>0</td>\n",
       "      <td>0</td>\n",
       "      <td>1</td>\n",
       "    </tr>\n",
       "    <tr>\n",
       "      <td>74868</td>\n",
       "      <td>1</td>\n",
       "      <td>0</td>\n",
       "      <td>0</td>\n",
       "      <td>0</td>\n",
       "      <td>0.410959</td>\n",
       "      <td>1.762500</td>\n",
       "      <td>0</td>\n",
       "      <td>0</td>\n",
       "      <td>0</td>\n",
       "      <td>1</td>\n",
       "    </tr>\n",
       "  </tbody>\n",
       "</table>\n",
       "<p>59450 rows × 10 columns</p>\n",
       "</div>"
      ],
      "text/plain": [
       "       animal_type  breed  color  sex_upon_intake  age_upon_intake_(years)  \\\n",
       "1                1      0      0                0                 3.000000   \n",
       "2                1      0      0                0                 3.000000   \n",
       "198              0      0      1                1                 3.000000   \n",
       "278              1      0      1                1                 3.000000   \n",
       "280              1      0      0                0                 3.000000   \n",
       "...            ...    ...    ...              ...                      ...   \n",
       "74864            0      0      1                2                 0.164384   \n",
       "74865            0      0      1                2                 0.164384   \n",
       "74866            0      0      1                2                 0.164384   \n",
       "74867            0      0      1                2                 0.164384   \n",
       "74868            1      0      0                0                 0.410959   \n",
       "\n",
       "       time_in_shelter_days  intake_type_Euthanasia Request  \\\n",
       "1                  1.259722                               0   \n",
       "2                  1.113889                               0   \n",
       "198                7.189583                               0   \n",
       "278                1.085417                               0   \n",
       "280                1.309722                               0   \n",
       "...                     ...                             ...   \n",
       "74864              0.076389                               0   \n",
       "74865              0.076389                               0   \n",
       "74866              0.708333                               0   \n",
       "74867              0.077083                               0   \n",
       "74868              1.762500                               0   \n",
       "\n",
       "       intake_type_Owner Surrender  intake_type_Public Assist  \\\n",
       "1                                0                          1   \n",
       "2                                0                          1   \n",
       "198                              1                          0   \n",
       "278                              0                          0   \n",
       "280                              0                          0   \n",
       "...                            ...                        ...   \n",
       "74864                            0                          0   \n",
       "74865                            0                          0   \n",
       "74866                            0                          0   \n",
       "74867                            0                          0   \n",
       "74868                            0                          0   \n",
       "\n",
       "       intake_type_Stray  \n",
       "1                      0  \n",
       "2                      0  \n",
       "198                    0  \n",
       "278                    1  \n",
       "280                    1  \n",
       "...                  ...  \n",
       "74864                  1  \n",
       "74865                  1  \n",
       "74866                  1  \n",
       "74867                  1  \n",
       "74868                  1  \n",
       "\n",
       "[59450 rows x 10 columns]"
      ]
     },
     "execution_count": 32,
     "metadata": {},
     "output_type": "execute_result"
    }
   ],
   "source": [
    "df_ID = df['animal_id_intake']\n",
    "df.drop(columns=['animal_id_intake'],inplace = True)\n",
    "TRAINING_FEATURES = df[df.columns.difference(['time_in_shelter_days'])]\n",
    "\n",
    "TARGET_FEATURE    = 'time_in_shelter_days'\n",
    "\n",
    "X = TRAINING_FEATURES\n",
    "y = df[TARGET_FEATURE]\n",
    "# X.info()\n",
    "df"
   ]
  },
  {
   "cell_type": "code",
   "execution_count": 33,
   "metadata": {},
   "outputs": [
    {
     "name": "stdout",
     "output_type": "stream",
     "text": [
      "Initial amount of samples: #(59450, 9)\n",
      "Number of training samples: #(47560, 9)\n",
      "Number of test samples: #(11890, 9)\n",
      "\n",
      "Target distribution in original dataset:\n",
      "0.085417     51\n",
      "0.063889     49\n",
      "0.079861     49\n",
      "0.054861     48\n",
      "0.070833     47\n",
      "             ..\n",
      "19.772917     1\n",
      "32.070833     1\n",
      "17.093750     1\n",
      "3.666667      1\n",
      "27.311111     1\n",
      "Name: time_in_shelter_days, Length: 18810, dtype: int64\n",
      "\n",
      "Target distribution in the training set:\n",
      "0.054861     42\n",
      "0.079861     41\n",
      "0.090972     40\n",
      "0.068750     39\n",
      "0.063889     39\n",
      "             ..\n",
      "10.155556     1\n",
      "27.247917     1\n",
      "19.127083     1\n",
      "18.234722     1\n",
      "21.875694     1\n",
      "Name: time_in_shelter_days, Length: 16923, dtype: int64\n",
      "\n",
      "Target distribution in the test set:\n",
      "0.044444     13\n",
      "0.042361     13\n",
      "0.050000     12\n",
      "0.034028     12\n",
      "0.085417     12\n",
      "             ..\n",
      "6.853472      1\n",
      "28.009722     1\n",
      "8.690972      1\n",
      "26.222917     1\n",
      "1.260417      1\n",
      "Name: time_in_shelter_days, Length: 7406, dtype: int64\n"
     ]
    }
   ],
   "source": [
    "X_train, X_test, y_train, y_test = train_test_split(X, y, test_size=0.2, random_state=42)\n",
    "\n",
    "print(\"Initial amount of samples: #{}\".format(X.shape))\n",
    "print(\"Number of training samples: #{}\".format(X_train.shape))\n",
    "print(\"Number of test samples: #{}\".format(X_test.shape))\n",
    "\n",
    "print(\"\\nTarget distribution in original dataset:\\n{}\".format(y.value_counts()))\n",
    "print(\"\\nTarget distribution in the training set:\\n{}\\n\".format(y_train.value_counts()))\n",
    "print(\"Target distribution in the test set:\\n{}\".format(y_test.value_counts()))"
   ]
  },
  {
   "cell_type": "code",
   "execution_count": 34,
   "metadata": {},
   "outputs": [],
   "source": [
    "model = linear_model.LinearRegression()"
   ]
  },
  {
   "cell_type": "code",
   "execution_count": 35,
   "metadata": {},
   "outputs": [
    {
     "data": {
      "text/plain": [
       "LinearRegression(copy_X=True, fit_intercept=True, n_jobs=None, normalize=False)"
      ]
     },
     "execution_count": 35,
     "metadata": {},
     "output_type": "execute_result"
    }
   ],
   "source": [
    "model.fit(X_train,y_train)"
   ]
  },
  {
   "cell_type": "code",
   "execution_count": 36,
   "metadata": {},
   "outputs": [],
   "source": [
    "y_pred = model.predict(X_test)"
   ]
  },
  {
   "cell_type": "code",
   "execution_count": 37,
   "metadata": {},
   "outputs": [
    {
     "name": "stdout",
     "output_type": "stream",
     "text": [
      "Coefficients: [ 0.04963479 -0.62502525 -0.59874547 -0.27898628 -3.129882    1.19005902\n",
      "  2.34571296 -0.40588999 -1.1972608 ]\n",
      "Intercept: 7.803883816465925\n",
      "Mean squared error (MSE): 53.13\n",
      "Coefficient of determination (R^2): 0.02\n"
     ]
    }
   ],
   "source": [
    "print('Coefficients:', model.coef_)\n",
    "print('Intercept:', model.intercept_)\n",
    "print('Mean squared error (MSE): %.2f'\n",
    "      % mean_squared_error(y_test, y_pred))\n",
    "print('Coefficient of determination (R^2): %.2f'\n",
    "      % r2_score(y_test, y_pred))"
   ]
  },
  {
   "cell_type": "code",
   "execution_count": 38,
   "metadata": {},
   "outputs": [
    {
     "data": {
      "text/plain": [
       "0.023940526754990366"
      ]
     },
     "execution_count": 38,
     "metadata": {},
     "output_type": "execute_result"
    }
   ],
   "source": [
    "r2_score(y_test, y_pred)"
   ]
  },
  {
   "cell_type": "code",
   "execution_count": 39,
   "metadata": {},
   "outputs": [],
   "source": [
    "from sklearn.preprocessing import StandardScaler\n",
    "\n",
    "scaler = StandardScaler()\n",
    "scaler.fit(X_train)\n",
    "\n",
    "X_trained_scaled = scaler.transform(X_train)\n",
    "X_test_scaled = scaler.transform(X_test)"
   ]
  },
  {
   "cell_type": "code",
   "execution_count": 40,
   "metadata": {},
   "outputs": [
    {
     "data": {
      "text/plain": [
       "array([1.24872835, 0.62180404, 0.04871741, 0.43429352, 0.00178722,\n",
       "       0.18706897, 0.06602187, 0.74512195, 0.54602607])"
      ]
     },
     "execution_count": 40,
     "metadata": {},
     "output_type": "execute_result"
    }
   ],
   "source": [
    "scaler.mean_"
   ]
  },
  {
   "cell_type": "code",
   "execution_count": 41,
   "metadata": {},
   "outputs": [
    {
     "data": {
      "text/plain": [
       "array([1.0788996 , 0.48493688, 0.21527662, 0.49566386, 0.04223768,\n",
       "       0.38996688, 0.24832032, 0.43579264, 0.58422724])"
      ]
     },
     "execution_count": 41,
     "metadata": {},
     "output_type": "execute_result"
    }
   ],
   "source": [
    "scaler.scale_"
   ]
  },
  {
   "cell_type": "code",
   "execution_count": 42,
   "metadata": {},
   "outputs": [],
   "source": [
    "X_trained_scaled = pd.DataFrame(X_trained_scaled, columns = X_train.columns)\n",
    "X_test_scaled = pd.DataFrame(X_test_scaled, columns= X_test.columns)"
   ]
  },
  {
   "cell_type": "code",
   "execution_count": 43,
   "metadata": {},
   "outputs": [
    {
     "data": {
      "text/html": [
       "<div>\n",
       "<style scoped>\n",
       "    .dataframe tbody tr th:only-of-type {\n",
       "        vertical-align: middle;\n",
       "    }\n",
       "\n",
       "    .dataframe tbody tr th {\n",
       "        vertical-align: top;\n",
       "    }\n",
       "\n",
       "    .dataframe thead th {\n",
       "        text-align: right;\n",
       "    }\n",
       "</style>\n",
       "<table border=\"1\" class=\"dataframe\">\n",
       "  <thead>\n",
       "    <tr style=\"text-align: right;\">\n",
       "      <th></th>\n",
       "      <th>age_upon_intake_(years)</th>\n",
       "      <th>animal_type</th>\n",
       "      <th>breed</th>\n",
       "      <th>color</th>\n",
       "      <th>intake_type_Euthanasia Request</th>\n",
       "      <th>intake_type_Owner Surrender</th>\n",
       "      <th>intake_type_Public Assist</th>\n",
       "      <th>intake_type_Stray</th>\n",
       "      <th>sex_upon_intake</th>\n",
       "    </tr>\n",
       "  </thead>\n",
       "  <tbody>\n",
       "    <tr>\n",
       "      <td>count</td>\n",
       "      <td>47560.00</td>\n",
       "      <td>47560.00</td>\n",
       "      <td>47560.00</td>\n",
       "      <td>47560.00</td>\n",
       "      <td>47560.00</td>\n",
       "      <td>47560.00</td>\n",
       "      <td>47560.00</td>\n",
       "      <td>47560.00</td>\n",
       "      <td>47560.00</td>\n",
       "    </tr>\n",
       "    <tr>\n",
       "      <td>mean</td>\n",
       "      <td>0.00</td>\n",
       "      <td>0.00</td>\n",
       "      <td>-0.00</td>\n",
       "      <td>-0.00</td>\n",
       "      <td>-0.00</td>\n",
       "      <td>0.00</td>\n",
       "      <td>0.00</td>\n",
       "      <td>0.00</td>\n",
       "      <td>-0.00</td>\n",
       "    </tr>\n",
       "    <tr>\n",
       "      <td>std</td>\n",
       "      <td>1.00</td>\n",
       "      <td>1.00</td>\n",
       "      <td>1.00</td>\n",
       "      <td>1.00</td>\n",
       "      <td>1.00</td>\n",
       "      <td>1.00</td>\n",
       "      <td>1.00</td>\n",
       "      <td>1.00</td>\n",
       "      <td>1.00</td>\n",
       "    </tr>\n",
       "    <tr>\n",
       "      <td>min</td>\n",
       "      <td>-1.01</td>\n",
       "      <td>-1.28</td>\n",
       "      <td>-0.23</td>\n",
       "      <td>-0.88</td>\n",
       "      <td>-0.04</td>\n",
       "      <td>-0.48</td>\n",
       "      <td>-0.27</td>\n",
       "      <td>-1.71</td>\n",
       "      <td>-0.93</td>\n",
       "    </tr>\n",
       "    <tr>\n",
       "      <td>25%</td>\n",
       "      <td>-1.01</td>\n",
       "      <td>-1.28</td>\n",
       "      <td>-0.23</td>\n",
       "      <td>-0.88</td>\n",
       "      <td>-0.04</td>\n",
       "      <td>-0.48</td>\n",
       "      <td>-0.27</td>\n",
       "      <td>-1.71</td>\n",
       "      <td>-0.93</td>\n",
       "    </tr>\n",
       "    <tr>\n",
       "      <td>50%</td>\n",
       "      <td>-0.23</td>\n",
       "      <td>0.78</td>\n",
       "      <td>-0.23</td>\n",
       "      <td>-0.88</td>\n",
       "      <td>-0.04</td>\n",
       "      <td>-0.48</td>\n",
       "      <td>-0.27</td>\n",
       "      <td>0.58</td>\n",
       "      <td>-0.93</td>\n",
       "    </tr>\n",
       "    <tr>\n",
       "      <td>75%</td>\n",
       "      <td>0.70</td>\n",
       "      <td>0.78</td>\n",
       "      <td>-0.23</td>\n",
       "      <td>1.14</td>\n",
       "      <td>-0.04</td>\n",
       "      <td>-0.48</td>\n",
       "      <td>-0.27</td>\n",
       "      <td>0.58</td>\n",
       "      <td>0.78</td>\n",
       "    </tr>\n",
       "    <tr>\n",
       "      <td>max</td>\n",
       "      <td>1.62</td>\n",
       "      <td>0.78</td>\n",
       "      <td>4.42</td>\n",
       "      <td>1.14</td>\n",
       "      <td>23.63</td>\n",
       "      <td>2.08</td>\n",
       "      <td>3.76</td>\n",
       "      <td>0.58</td>\n",
       "      <td>2.49</td>\n",
       "    </tr>\n",
       "  </tbody>\n",
       "</table>\n",
       "</div>"
      ],
      "text/plain": [
       "       age_upon_intake_(years)  animal_type     breed     color  \\\n",
       "count                 47560.00     47560.00  47560.00  47560.00   \n",
       "mean                      0.00         0.00     -0.00     -0.00   \n",
       "std                       1.00         1.00      1.00      1.00   \n",
       "min                      -1.01        -1.28     -0.23     -0.88   \n",
       "25%                      -1.01        -1.28     -0.23     -0.88   \n",
       "50%                      -0.23         0.78     -0.23     -0.88   \n",
       "75%                       0.70         0.78     -0.23      1.14   \n",
       "max                       1.62         0.78      4.42      1.14   \n",
       "\n",
       "       intake_type_Euthanasia Request  intake_type_Owner Surrender  \\\n",
       "count                        47560.00                     47560.00   \n",
       "mean                            -0.00                         0.00   \n",
       "std                              1.00                         1.00   \n",
       "min                             -0.04                        -0.48   \n",
       "25%                             -0.04                        -0.48   \n",
       "50%                             -0.04                        -0.48   \n",
       "75%                             -0.04                        -0.48   \n",
       "max                             23.63                         2.08   \n",
       "\n",
       "       intake_type_Public Assist  intake_type_Stray  sex_upon_intake  \n",
       "count                   47560.00           47560.00         47560.00  \n",
       "mean                        0.00               0.00            -0.00  \n",
       "std                         1.00               1.00             1.00  \n",
       "min                        -0.27              -1.71            -0.93  \n",
       "25%                        -0.27              -1.71            -0.93  \n",
       "50%                        -0.27               0.58            -0.93  \n",
       "75%                        -0.27               0.58             0.78  \n",
       "max                         3.76               0.58             2.49  "
      ]
     },
     "execution_count": 43,
     "metadata": {},
     "output_type": "execute_result"
    }
   ],
   "source": [
    "np.round(X_trained_scaled.describe(),2)"
   ]
  },
  {
   "cell_type": "code",
   "execution_count": 44,
   "metadata": {},
   "outputs": [],
   "source": [
    "model_scaled = LinearRegression().fit(X_trained_scaled, y_train)"
   ]
  },
  {
   "cell_type": "code",
   "execution_count": 45,
   "metadata": {},
   "outputs": [
    {
     "name": "stdout",
     "output_type": "stream",
     "text": [
      "Coefficients: [ 5.36176027e-02 -3.03179911e-01 -1.28930729e-01 -1.37651951e-01\n",
      " -3.93339689e+11 -3.63157811e+12 -2.31249031e+12 -4.05833190e+12\n",
      " -6.99613535e-01]\n",
      "Intercept: 6.742438847143209\n",
      "model score is 0.02414550432711904\n"
     ]
    }
   ],
   "source": [
    "print('Coefficients:', model_scaled.coef_)\n",
    "print('Intercept:', model_scaled.intercept_)\n",
    "print('model score is',model_scaled.score(X_trained_scaled,y_train))"
   ]
  },
  {
   "cell_type": "code",
   "execution_count": 46,
   "metadata": {},
   "outputs": [],
   "source": [
    "y_pred_scaled = model_scaled.predict(X_test_scaled)"
   ]
  },
  {
   "cell_type": "code",
   "execution_count": 47,
   "metadata": {},
   "outputs": [
    {
     "data": {
      "text/plain": [
       "array([6.86909751, 8.47688173, 5.96944664, ..., 6.50435141, 5.44356774,\n",
       "       9.67512392])"
      ]
     },
     "execution_count": 47,
     "metadata": {},
     "output_type": "execute_result"
    }
   ],
   "source": [
    "y_pred_scaled"
   ]
  },
  {
   "cell_type": "code",
   "execution_count": 48,
   "metadata": {},
   "outputs": [
    {
     "name": "stdout",
     "output_type": "stream",
     "text": [
      "mean squared error on scaled data is  53.0 2\n",
      "r squared on scaled data is  -38.905613776873764\n"
     ]
    }
   ],
   "source": [
    "print('mean squared error on scaled data is ', np.round(mean_squared_error(y_pred_scaled, y_test)),2)\n",
    "print('r squared on scaled data is ', r2_score(y_pred_scaled, y_test))"
   ]
  },
  {
   "cell_type": "code",
   "execution_count": null,
   "metadata": {},
   "outputs": [],
   "source": []
  },
  {
   "cell_type": "code",
   "execution_count": null,
   "metadata": {},
   "outputs": [],
   "source": []
  }
 ],
 "metadata": {
  "kernelspec": {
   "display_name": "Python 3",
   "language": "python",
   "name": "python3"
  },
  "language_info": {
   "codemirror_mode": {
    "name": "ipython",
    "version": 3
   },
   "file_extension": ".py",
   "mimetype": "text/x-python",
   "name": "python",
   "nbconvert_exporter": "python",
   "pygments_lexer": "ipython3",
   "version": "3.7.4"
  }
 },
 "nbformat": 4,
 "nbformat_minor": 2
}
